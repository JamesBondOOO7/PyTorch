{
  "nbformat": 4,
  "nbformat_minor": 0,
  "metadata": {
    "colab": {
      "name": "14. Callable Neural Networks - Linear Layers.ipynb",
      "provenance": []
    },
    "kernelspec": {
      "name": "python3",
      "display_name": "Python 3"
    },
    "language_info": {
      "name": "python"
    }
  },
  "cells": [
    {
      "cell_type": "markdown",
      "source": [
        "## Callable Neural Networks - Linear Layers"
      ],
      "metadata": {
        "id": "62iGWKjwah5f"
      }
    },
    {
      "cell_type": "code",
      "source": [
        "import torch\n",
        "import torch.nn as nn"
      ],
      "metadata": {
        "id": "M-4hh-lKbmNW"
      },
      "execution_count": 2,
      "outputs": []
    },
    {
      "cell_type": "code",
      "execution_count": 3,
      "metadata": {
        "colab": {
          "base_uri": "https://localhost:8080/"
        },
        "id": "oScO5Q_baeVb",
        "outputId": "fa1b8338-b400-4517-9e2f-5eff018f1009"
      },
      "outputs": [
        {
          "output_type": "stream",
          "name": "stdout",
          "text": [
            "torch.Size([4])\n",
            "torch.Size([3, 4])\n",
            "torch.Size([3])\n"
          ]
        }
      ],
      "source": [
        "# 4D space --> 3D space using Matrix\n",
        "\n",
        "in_features = torch.tensor(\n",
        "    [1,2,3,4],\n",
        "    dtype=torch.float32\n",
        ")\n",
        "\n",
        "print(in_features.shape) # from 4D\n",
        "\n",
        "weight_matrix = torch.tensor([\n",
        "    [1,2,3,4],\n",
        "    [2,3,4,5],\n",
        "    [3,4,5,6]\n",
        "], dtype=torch.float32)\n",
        "\n",
        "print(weight_matrix.shape)\n",
        "\n",
        "print(weight_matrix.matmul(in_features).shape) # to 3D"
      ]
    },
    {
      "cell_type": "code",
      "source": [
        "# 4D space --> 3D space using Linear Layer\n",
        "\n",
        "fc = nn.Linear(in_features=4, out_features=3, bias=False)\n",
        "\n",
        "# The weight matrix is inside the Linear layer class"
      ],
      "metadata": {
        "id": "GO1jgksQbe5M"
      },
      "execution_count": 8,
      "outputs": []
    },
    {
      "cell_type": "code",
      "source": [
        "# Setting the weights of the Linear layer\n",
        "fc.weight = nn.Parameter(weight_matrix)"
      ],
      "metadata": {
        "id": "AM_8DrFJcUUX"
      },
      "execution_count": 9,
      "outputs": []
    },
    {
      "cell_type": "code",
      "source": [
        "fc(in_features)"
      ],
      "metadata": {
        "colab": {
          "base_uri": "https://localhost:8080/"
        },
        "id": "ORZEftohcHa1",
        "outputId": "986e5f5f-39b6-4ff3-db14-9ed97b89a06c"
      },
      "execution_count": 10,
      "outputs": [
        {
          "output_type": "execute_result",
          "data": {
            "text/plain": [
              "tensor([30., 40., 50.], grad_fn=<SqueezeBackward3>)"
            ]
          },
          "metadata": {},
          "execution_count": 10
        }
      ]
    },
    {
      "cell_type": "markdown",
      "source": [
        "### `Layer(input)` --> instance called as a function\n",
        "### This can be done by overriding `__call__(input)` dunder\n",
        "### Internally, PyTorch calls the `forward(input)` method for us"
      ],
      "metadata": {
        "id": "T78HQzB1c-uc"
      }
    },
    {
      "cell_type": "code",
      "source": [
        ""
      ],
      "metadata": {
        "id": "GmghQOgCcIe1"
      },
      "execution_count": null,
      "outputs": []
    }
  ]
}