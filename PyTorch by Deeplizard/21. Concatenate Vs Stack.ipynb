{
  "nbformat": 4,
  "nbformat_minor": 0,
  "metadata": {
    "colab": {
      "name": "21 Concatenate Vs Stack.ipynb",
      "provenance": []
    },
    "kernelspec": {
      "name": "python3",
      "display_name": "Python 3"
    },
    "language_info": {
      "name": "python"
    }
  },
  "cells": [
    {
      "cell_type": "markdown",
      "source": [
        "## Concatenate Vs Stack\n",
        "\n",
        "- **Concatenating** joins a sequence of tensors along an existing axis\n",
        "- **Stacking** joins a sequence of tensors along a new axis."
      ],
      "metadata": {
        "id": "2Xl5gP3J188e"
      }
    },
    {
      "cell_type": "code",
      "execution_count": 1,
      "metadata": {
        "id": "vp_0_ukn1rxG"
      },
      "outputs": [],
      "source": [
        "import torch"
      ]
    },
    {
      "cell_type": "code",
      "source": [
        "t1 = torch.tensor([1, 1, 1])"
      ],
      "metadata": {
        "id": "dPy4QiMx2b0l"
      },
      "execution_count": 2,
      "outputs": []
    },
    {
      "cell_type": "code",
      "source": [
        "# adding an axis\n",
        "t1.unsqueeze(dim=0)"
      ],
      "metadata": {
        "colab": {
          "base_uri": "https://localhost:8080/"
        },
        "id": "nI1qEkhT2ekF",
        "outputId": "d1a8d2fc-5c15-40ae-840e-85af481e83b8"
      },
      "execution_count": 3,
      "outputs": [
        {
          "output_type": "execute_result",
          "data": {
            "text/plain": [
              "tensor([[1, 1, 1]])"
            ]
          },
          "metadata": {},
          "execution_count": 3
        }
      ]
    },
    {
      "cell_type": "code",
      "source": [
        "t1.unsqueeze(dim=1)"
      ],
      "metadata": {
        "colab": {
          "base_uri": "https://localhost:8080/"
        },
        "id": "VvgUr13F2iCK",
        "outputId": "746b4a71-c7d6-461f-a44f-b34e373f9d12"
      },
      "execution_count": 4,
      "outputs": [
        {
          "output_type": "execute_result",
          "data": {
            "text/plain": [
              "tensor([[1],\n",
              "        [1],\n",
              "        [1]])"
            ]
          },
          "metadata": {},
          "execution_count": 4
        }
      ]
    },
    {
      "cell_type": "code",
      "source": [
        "print(t1.shape)\n",
        "print(t1.unsqueeze(dim=0).shape)\n",
        "print(t1.unsqueeze(dim=1).shape)"
      ],
      "metadata": {
        "colab": {
          "base_uri": "https://localhost:8080/"
        },
        "id": "72OD65Kd2m_w",
        "outputId": "09219992-0ae9-4032-a7a7-1e86cbd7a653"
      },
      "execution_count": 5,
      "outputs": [
        {
          "output_type": "stream",
          "name": "stdout",
          "text": [
            "torch.Size([3])\n",
            "torch.Size([1, 3])\n",
            "torch.Size([3, 1])\n"
          ]
        }
      ]
    },
    {
      "cell_type": "markdown",
      "source": [
        "## In PyTorch"
      ],
      "metadata": {
        "id": "7pwsXmYh3BI4"
      }
    },
    {
      "cell_type": "code",
      "source": [
        "t1 = torch.tensor([1, 1, 1])\n",
        "t2 = torch.tensor([2, 2, 2])\n",
        "t3 = torch.tensor([3, 3, 3])"
      ],
      "metadata": {
        "id": "hM3VUtvQ2wns"
      },
      "execution_count": 6,
      "outputs": []
    },
    {
      "cell_type": "code",
      "source": [
        "torch.cat(\n",
        "    (t1, t2, t3),\n",
        "    dim = 0\n",
        ")"
      ],
      "metadata": {
        "colab": {
          "base_uri": "https://localhost:8080/"
        },
        "id": "GrEv3ao93HIy",
        "outputId": "b662aca6-363f-45a5-9f39-061d2c264490"
      },
      "execution_count": 7,
      "outputs": [
        {
          "output_type": "execute_result",
          "data": {
            "text/plain": [
              "tensor([1, 1, 1, 2, 2, 2, 3, 3, 3])"
            ]
          },
          "metadata": {},
          "execution_count": 7
        }
      ]
    },
    {
      "cell_type": "code",
      "source": [
        "torch.stack(\n",
        "    (t1, t2, t3),\n",
        "    dim = 0 # creating a new axis at dim=0, and stacking along it\n",
        ")"
      ],
      "metadata": {
        "colab": {
          "base_uri": "https://localhost:8080/"
        },
        "id": "_eCiwU5s3LOx",
        "outputId": "67b39752-41e7-45e6-ca21-8723b44cec09"
      },
      "execution_count": 8,
      "outputs": [
        {
          "output_type": "execute_result",
          "data": {
            "text/plain": [
              "tensor([[1, 1, 1],\n",
              "        [2, 2, 2],\n",
              "        [3, 3, 3]])"
            ]
          },
          "metadata": {},
          "execution_count": 8
        }
      ]
    },
    {
      "cell_type": "code",
      "source": [
        "torch.cat(\n",
        "    (t1.unsqueeze(0),\n",
        "     t2.unsqueeze(0),\n",
        "     t3.unsqueeze(0)\n",
        "     ),\n",
        "    dim = 0\n",
        ")"
      ],
      "metadata": {
        "colab": {
          "base_uri": "https://localhost:8080/"
        },
        "id": "q_n78Zw13S8X",
        "outputId": "d9390507-c950-4918-ca9f-134d4c99a44d"
      },
      "execution_count": 9,
      "outputs": [
        {
          "output_type": "execute_result",
          "data": {
            "text/plain": [
              "tensor([[1, 1, 1],\n",
              "        [2, 2, 2],\n",
              "        [3, 3, 3]])"
            ]
          },
          "metadata": {},
          "execution_count": 9
        }
      ]
    },
    {
      "cell_type": "code",
      "source": [
        "torch.stack(\n",
        "    (t1, t2, t3),\n",
        "    dim = 1 # creating a new axis at dim=1, and stacking along it\n",
        ")"
      ],
      "metadata": {
        "colab": {
          "base_uri": "https://localhost:8080/"
        },
        "id": "HUcBLlM-33R8",
        "outputId": "df30acfc-dc11-4e5f-eafd-7915fd6accfc"
      },
      "execution_count": 10,
      "outputs": [
        {
          "output_type": "execute_result",
          "data": {
            "text/plain": [
              "tensor([[1, 2, 3],\n",
              "        [1, 2, 3],\n",
              "        [1, 2, 3]])"
            ]
          },
          "metadata": {},
          "execution_count": 10
        }
      ]
    },
    {
      "cell_type": "code",
      "source": [
        "torch.cat(\n",
        "    (t1.unsqueeze(1),\n",
        "     t2.unsqueeze(1),\n",
        "     t3.unsqueeze(1)\n",
        "     ),\n",
        "    dim = 1\n",
        ")"
      ],
      "metadata": {
        "colab": {
          "base_uri": "https://localhost:8080/"
        },
        "id": "FiqJxzgB3-hY",
        "outputId": "0010720b-c55c-4cb4-8c4a-899bd92b7065"
      },
      "execution_count": 11,
      "outputs": [
        {
          "output_type": "execute_result",
          "data": {
            "text/plain": [
              "tensor([[1, 2, 3],\n",
              "        [1, 2, 3],\n",
              "        [1, 2, 3]])"
            ]
          },
          "metadata": {},
          "execution_count": 11
        }
      ]
    },
    {
      "cell_type": "code",
      "source": [
        ""
      ],
      "metadata": {
        "id": "Co4aBhaf4Ggh"
      },
      "execution_count": null,
      "outputs": []
    }
  ]
}