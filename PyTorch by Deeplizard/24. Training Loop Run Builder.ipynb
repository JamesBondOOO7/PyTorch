{
  "nbformat": 4,
  "nbformat_minor": 0,
  "metadata": {
    "colab": {
      "name": "24. Training Loop Run Builder.ipynb",
      "provenance": []
    },
    "kernelspec": {
      "name": "python3",
      "display_name": "Python 3"
    },
    "language_info": {
      "name": "python"
    }
  },
  "cells": [
    {
      "cell_type": "markdown",
      "source": [
        "## Training Loop Run Builder"
      ],
      "metadata": {
        "id": "kzpNOGHbSVDG"
      }
    },
    {
      "cell_type": "code",
      "execution_count": 1,
      "metadata": {
        "id": "PwH36T1KFPMu"
      },
      "outputs": [],
      "source": [
        "from collections import OrderedDict\n",
        "from collections import namedtuple\n",
        "from itertools import product"
      ]
    },
    {
      "cell_type": "code",
      "source": [
        "class RunBuilder():\n",
        "\n",
        "    @staticmethod\n",
        "    def get_runs(params):\n",
        "\n",
        "        Run = namedtuple('Run', params.keys())\n",
        "\n",
        "        runs = []\n",
        "        for v in product(*params.values()):\n",
        "            runs.append(Run(*v))\n",
        "\n",
        "        return runs"
      ],
      "metadata": {
        "id": "ZpCoN3LKScZl"
      },
      "execution_count": 2,
      "outputs": []
    },
    {
      "cell_type": "code",
      "source": [
        "params = OrderedDict(\n",
        "    lr = [0.01, 0.001],\n",
        "    batch_size = [1000, 10000]\n",
        ")"
      ],
      "metadata": {
        "id": "-yo7c_75StoY"
      },
      "execution_count": 3,
      "outputs": []
    },
    {
      "cell_type": "code",
      "source": [
        "runs = RunBuilder.get_runs(params)\n",
        "runs"
      ],
      "metadata": {
        "colab": {
          "base_uri": "https://localhost:8080/"
        },
        "id": "OloRXPeAS12r",
        "outputId": "b442a757-cc53-4765-e5ac-bc9e93a7caa3"
      },
      "execution_count": 4,
      "outputs": [
        {
          "output_type": "execute_result",
          "data": {
            "text/plain": [
              "[Run(lr=0.01, batch_size=1000),\n",
              " Run(lr=0.01, batch_size=10000),\n",
              " Run(lr=0.001, batch_size=1000),\n",
              " Run(lr=0.001, batch_size=10000)]"
            ]
          },
          "metadata": {},
          "execution_count": 4
        }
      ]
    },
    {
      "cell_type": "code",
      "source": [
        "run = runs[0]\n",
        "run"
      ],
      "metadata": {
        "colab": {
          "base_uri": "https://localhost:8080/"
        },
        "id": "OWi_sgEHTDxh",
        "outputId": "505e4afb-6d82-4520-c080-3a1017ccd654"
      },
      "execution_count": 5,
      "outputs": [
        {
          "output_type": "execute_result",
          "data": {
            "text/plain": [
              "Run(lr=0.01, batch_size=1000)"
            ]
          },
          "metadata": {},
          "execution_count": 5
        }
      ]
    },
    {
      "cell_type": "code",
      "source": [
        "print(run.lr, run.batch_size)"
      ],
      "metadata": {
        "colab": {
          "base_uri": "https://localhost:8080/"
        },
        "id": "etGEBgJ1TGP0",
        "outputId": "8c13a4c1-1b3c-4f7c-ecb3-aea23070d459"
      },
      "execution_count": 6,
      "outputs": [
        {
          "output_type": "stream",
          "name": "stdout",
          "text": [
            "0.01 1000\n"
          ]
        }
      ]
    },
    {
      "cell_type": "code",
      "source": [
        "for run in runs:\n",
        "    print(run, run.lr, run.batch_size)"
      ],
      "metadata": {
        "colab": {
          "base_uri": "https://localhost:8080/"
        },
        "id": "9JJIUxLATIxn",
        "outputId": "56fc599e-3376-42a9-e045-202ecdb59848"
      },
      "execution_count": 7,
      "outputs": [
        {
          "output_type": "stream",
          "name": "stdout",
          "text": [
            "Run(lr=0.01, batch_size=1000) 0.01 1000\n",
            "Run(lr=0.01, batch_size=10000) 0.01 10000\n",
            "Run(lr=0.001, batch_size=1000) 0.001 1000\n",
            "Run(lr=0.001, batch_size=10000) 0.001 10000\n"
          ]
        }
      ]
    },
    {
      "cell_type": "code",
      "source": [
        "# easier to comment\n",
        "for run in RunBuilder.get_runs(params):\n",
        "    comment = f\"-{run}\"\n",
        "    print(comment)\n",
        "    break"
      ],
      "metadata": {
        "colab": {
          "base_uri": "https://localhost:8080/"
        },
        "id": "5UEV6wQLTNl1",
        "outputId": "e7067cac-1680-40cf-9b90-1b32f7d3747c"
      },
      "execution_count": 8,
      "outputs": [
        {
          "output_type": "stream",
          "name": "stdout",
          "text": [
            "-Run(lr=0.01, batch_size=1000)\n"
          ]
        }
      ]
    },
    {
      "cell_type": "code",
      "source": [
        ""
      ],
      "metadata": {
        "id": "K-QVTEpNT89z"
      },
      "execution_count": null,
      "outputs": []
    }
  ]
}