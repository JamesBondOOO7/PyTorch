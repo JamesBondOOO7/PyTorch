{
  "nbformat": 4,
  "nbformat_minor": 0,
  "metadata": {
    "colab": {
      "name": "13. CNN Weights - Learnable Parameters In Neural Networks.ipynb",
      "provenance": [],
      "collapsed_sections": []
    },
    "kernelspec": {
      "name": "python3",
      "display_name": "Python 3"
    },
    "language_info": {
      "name": "python"
    }
  },
  "cells": [
    {
      "cell_type": "markdown",
      "source": [
        "## CNN Weights - Learnable Parameters In Neural Networks"
      ],
      "metadata": {
        "id": "vHux7bdSFO_S"
      }
    },
    {
      "cell_type": "code",
      "execution_count": 17,
      "metadata": {
        "id": "u6UUOR1IDaxe"
      },
      "outputs": [],
      "source": [
        "import torch.nn as nn\n",
        "import torch"
      ]
    },
    {
      "cell_type": "code",
      "source": [
        "class Network(nn.Module):\n",
        "\n",
        "    def __init__(self):\n",
        "        super(Network, self).__init__()\n",
        "        self.conv1 = nn.Conv2d(in_channels=1, out_channels=6, kernel_size=5)\n",
        "        self.conv2 = nn.Conv2d(in_channels=6, out_channels=12, kernel_size=5)\n",
        "\n",
        "        self.fc1 = nn.Linear(in_features=12*4*4, out_features=120)\n",
        "        self.fc2 = nn.Linear(in_features=120, out_features=60)\n",
        "        self.out = nn.Linear(in_features=60, out_features=10)\n",
        "\n",
        "    def forward(self, t):\n",
        "        # forward pass of the Network\n",
        "        return t"
      ],
      "metadata": {
        "id": "TH5U9Fp9PcxL"
      },
      "execution_count": 12,
      "outputs": []
    },
    {
      "cell_type": "code",
      "source": [
        "# nn.Module overrides the __repr__ dunder\n",
        "# Hence, we get a good o/p string (representation) of the N/W\n",
        "network = Network()\n",
        "print(network)"
      ],
      "metadata": {
        "colab": {
          "base_uri": "https://localhost:8080/"
        },
        "id": "_cy1zBUFPdJU",
        "outputId": "1725a09a-9077-4af3-9dba-d23ad7b7b34b"
      },
      "execution_count": 13,
      "outputs": [
        {
          "output_type": "stream",
          "name": "stdout",
          "text": [
            "Network(\n",
            "  (conv1): Conv2d(1, 6, kernel_size=(5, 5), stride=(1, 1))\n",
            "  (conv2): Conv2d(6, 12, kernel_size=(5, 5), stride=(1, 1))\n",
            "  (fc1): Linear(in_features=192, out_features=120, bias=True)\n",
            "  (fc2): Linear(in_features=120, out_features=60, bias=True)\n",
            "  (out): Linear(in_features=60, out_features=10, bias=True)\n",
            ")\n"
          ]
        }
      ]
    },
    {
      "cell_type": "code",
      "source": [
        "# if we don't inherit from the nn.Module class\n",
        "\n",
        "class NW():\n",
        "\n",
        "    def __init__(self):\n",
        "        # super(Network, self).__init__()\n",
        "        self.conv1 = nn.Conv2d(in_channels=1, out_channels=6, kernel_size=5)\n",
        "        self.conv2 = nn.Conv2d(in_channels=6, out_channels=12, kernel_size=5)\n",
        "\n",
        "        self.fc1 = nn.Linear(in_features=12*4*4, out_features=120)\n",
        "        self.fc2 = nn.Linear(in_features=120, out_features=60)\n",
        "        self.fc3 = nn.Linear(in_features=60, out_features=10)\n",
        "\n",
        "    def forward(self, t):\n",
        "        # forward pass of the Network\n",
        "        return t"
      ],
      "metadata": {
        "id": "CfDFJ4TgPs2B"
      },
      "execution_count": 4,
      "outputs": []
    },
    {
      "cell_type": "code",
      "source": [
        "nw = NW()\n",
        "print(nw)"
      ],
      "metadata": {
        "colab": {
          "base_uri": "https://localhost:8080/"
        },
        "id": "Joyw91uUP2rA",
        "outputId": "1b1b0837-5797-485d-c5cd-d40ead6cab59"
      },
      "execution_count": 5,
      "outputs": [
        {
          "output_type": "stream",
          "name": "stdout",
          "text": [
            "<__main__.NW object at 0x7f3ef955cf50>\n"
          ]
        }
      ]
    },
    {
      "cell_type": "code",
      "source": [
        "# if we override the __repr__ dunder\n",
        "\n",
        "class NW():\n",
        "\n",
        "    def __init__(self):\n",
        "        # super(Network, self).__init__()\n",
        "        self.conv1 = nn.Conv2d(in_channels=1, out_channels=6, kernel_size=5)\n",
        "        self.conv2 = nn.Conv2d(in_channels=6, out_channels=12, kernel_size=5)\n",
        "\n",
        "        self.fc1 = nn.Linear(in_features=12*4*4, out_features=120)\n",
        "        self.fc2 = nn.Linear(in_features=120, out_features=60)\n",
        "        self.fc3 = nn.Linear(in_features=60, out_features=10)\n",
        "\n",
        "    def forward(self, t):\n",
        "        # forward pass of the Network\n",
        "        return t\n",
        "\n",
        "    def __repr__(self):\n",
        "        return \"My Neural Network\""
      ],
      "metadata": {
        "id": "Bmt0-OPEP5UJ"
      },
      "execution_count": 6,
      "outputs": []
    },
    {
      "cell_type": "code",
      "source": [
        "nw = NW()\n",
        "print(nw)"
      ],
      "metadata": {
        "colab": {
          "base_uri": "https://localhost:8080/"
        },
        "id": "1TYtFl1mQFn-",
        "outputId": "3a77d68d-fe98-4f7b-e841-2df492537173"
      },
      "execution_count": 7,
      "outputs": [
        {
          "output_type": "stream",
          "name": "stdout",
          "text": [
            "My Neural Network\n"
          ]
        }
      ]
    },
    {
      "cell_type": "code",
      "source": [
        "# Coming back to Network Class\n",
        "\n",
        "# Accessing attributes of objects\n",
        "print(network.conv1)\n",
        "print(network.conv2)\n",
        "print(network.fc1)\n",
        "print(network.fc2)\n",
        "print(network.out)\n",
        "\n",
        "# These o/ps are just string representations"
      ],
      "metadata": {
        "colab": {
          "base_uri": "https://localhost:8080/"
        },
        "id": "Q3U2TYvdQHKi",
        "outputId": "1fbd99c9-e87b-4524-ef86-e5c2d5be228b"
      },
      "execution_count": 14,
      "outputs": [
        {
          "output_type": "stream",
          "name": "stdout",
          "text": [
            "Conv2d(1, 6, kernel_size=(5, 5), stride=(1, 1))\n",
            "Conv2d(6, 12, kernel_size=(5, 5), stride=(1, 1))\n",
            "Linear(in_features=192, out_features=120, bias=True)\n",
            "Linear(in_features=120, out_features=60, bias=True)\n",
            "Linear(in_features=60, out_features=10, bias=True)\n"
          ]
        }
      ]
    },
    {
      "cell_type": "code",
      "source": [
        "# Network Class (network) --> Conv2D (conv1) --> Parameter Class (weight)\n",
        "network.conv1.weight\n"
      ],
      "metadata": {
        "colab": {
          "base_uri": "https://localhost:8080/"
        },
        "id": "wCm2h0XrQaXb",
        "outputId": "496037da-7c1c-4ec5-f0e5-2b5ac71d7460"
      },
      "execution_count": 15,
      "outputs": [
        {
          "output_type": "execute_result",
          "data": {
            "text/plain": [
              "Parameter containing:\n",
              "tensor([[[[ 0.1357, -0.1490,  0.1636,  0.0717, -0.1656],\n",
              "          [-0.1600, -0.1705,  0.0403, -0.1040,  0.1720],\n",
              "          [ 0.1762,  0.1347, -0.0666,  0.0527,  0.1803],\n",
              "          [ 0.1728, -0.1618,  0.1520, -0.1448,  0.0796],\n",
              "          [ 0.0689, -0.0250,  0.0064, -0.1247,  0.1190]]],\n",
              "\n",
              "\n",
              "        [[[ 0.0154, -0.1012,  0.0695,  0.0419, -0.1106],\n",
              "          [-0.0572, -0.0874,  0.1018,  0.1197,  0.0101],\n",
              "          [-0.1489, -0.0547, -0.1126,  0.0652, -0.1230],\n",
              "          [-0.1127, -0.1063, -0.0579, -0.0741,  0.0340],\n",
              "          [ 0.1741, -0.1437, -0.0967, -0.1075, -0.1952]]],\n",
              "\n",
              "\n",
              "        [[[ 0.1514,  0.1015, -0.0222,  0.0956,  0.1126],\n",
              "          [ 0.1464,  0.1889,  0.0936, -0.0991, -0.1572],\n",
              "          [ 0.1990,  0.0726,  0.1865, -0.1616, -0.0632],\n",
              "          [ 0.0872,  0.0885,  0.0892,  0.0028,  0.0583],\n",
              "          [-0.1530,  0.0100,  0.1175,  0.1247, -0.1523]]],\n",
              "\n",
              "\n",
              "        [[[ 0.1705,  0.0015,  0.1499,  0.0366,  0.0277],\n",
              "          [ 0.1321,  0.1517,  0.0792, -0.0348, -0.0550],\n",
              "          [-0.1016, -0.0741, -0.0692, -0.0959, -0.1060],\n",
              "          [-0.0784, -0.1140,  0.1571,  0.1463, -0.1756],\n",
              "          [ 0.1855, -0.1328, -0.1657,  0.0896,  0.1136]]],\n",
              "\n",
              "\n",
              "        [[[-0.0703,  0.1957, -0.0383,  0.1129,  0.0385],\n",
              "          [-0.1653, -0.1199,  0.0674,  0.0935, -0.1453],\n",
              "          [ 0.1512, -0.1412,  0.0698,  0.1566,  0.1598],\n",
              "          [-0.0344, -0.0930, -0.1978,  0.0050, -0.1347],\n",
              "          [-0.0376,  0.1238,  0.1208, -0.1143, -0.1001]]],\n",
              "\n",
              "\n",
              "        [[[-0.0503,  0.0501, -0.0360, -0.0920, -0.1441],\n",
              "          [ 0.1509,  0.1468, -0.1595, -0.0618,  0.1180],\n",
              "          [ 0.0223,  0.0570,  0.1890, -0.0800, -0.1136],\n",
              "          [-0.0351, -0.0580,  0.1689, -0.0010, -0.1073],\n",
              "          [ 0.0004,  0.1651, -0.0021,  0.0571,  0.1646]]]], requires_grad=True)"
            ]
          },
          "metadata": {},
          "execution_count": 15
        }
      ]
    },
    {
      "cell_type": "code",
      "source": [
        "print(network.conv1.weight.shape)\n",
        "print(network.conv2.weight.shape)\n",
        "print(network.fc1.weight.shape)\n",
        "print(network.fc2.weight.shape)\n",
        "print(network.out.weight.shape)"
      ],
      "metadata": {
        "colab": {
          "base_uri": "https://localhost:8080/"
        },
        "id": "69m-jOzFRCU7",
        "outputId": "1c0fd31f-ca11-474f-fd99-d802b5b032f2"
      },
      "execution_count": 16,
      "outputs": [
        {
          "output_type": "stream",
          "name": "stdout",
          "text": [
            "torch.Size([6, 1, 5, 5])\n",
            "torch.Size([12, 6, 5, 5])\n",
            "torch.Size([120, 192])\n",
            "torch.Size([60, 120])\n",
            "torch.Size([10, 60])\n"
          ]
        }
      ]
    },
    {
      "cell_type": "code",
      "source": [
        "# weight matrix (a X b) converts the i/p of `b` dimension to `a` dimension\n",
        "\n",
        "in_features = torch.tensor(\n",
        "    [1,2,3,4],\n",
        "    dtype=torch.float32\n",
        ")\n",
        "\n",
        "in_features.shape # from 4D"
      ],
      "metadata": {
        "colab": {
          "base_uri": "https://localhost:8080/"
        },
        "id": "pea7lXPeRrAO",
        "outputId": "bfff712c-6b82-4c1b-ae84-bce3f2461c47"
      },
      "execution_count": 19,
      "outputs": [
        {
          "output_type": "execute_result",
          "data": {
            "text/plain": [
              "torch.Size([4])"
            ]
          },
          "metadata": {},
          "execution_count": 19
        }
      ]
    },
    {
      "cell_type": "code",
      "source": [
        "weight_matrix = torch.tensor([\n",
        "    [1,2,3,4],\n",
        "    [2,3,4,5],\n",
        "    [3,4,5,6]\n",
        "], dtype=torch.float32)\n",
        "\n",
        "print(weight_matrix.shape)"
      ],
      "metadata": {
        "colab": {
          "base_uri": "https://localhost:8080/"
        },
        "id": "wMnwgVJLT8aW",
        "outputId": "a4348bec-f135-40cd-8974-bfa37c5aea2b"
      },
      "execution_count": 20,
      "outputs": [
        {
          "output_type": "stream",
          "name": "stdout",
          "text": [
            "torch.Size([3, 4])\n"
          ]
        }
      ]
    },
    {
      "cell_type": "code",
      "source": [
        "weight_matrix.matmul(in_features).shape # to 3D"
      ],
      "metadata": {
        "colab": {
          "base_uri": "https://localhost:8080/"
        },
        "id": "5lP2nqffUNAJ",
        "outputId": "3aec261e-4f06-4e7e-b2a6-09c449443e7e"
      },
      "execution_count": 22,
      "outputs": [
        {
          "output_type": "execute_result",
          "data": {
            "text/plain": [
              "torch.Size([3])"
            ]
          },
          "metadata": {},
          "execution_count": 22
        }
      ]
    },
    {
      "cell_type": "code",
      "source": [
        "weight_matrix @ in_features"
      ],
      "metadata": {
        "colab": {
          "base_uri": "https://localhost:8080/"
        },
        "id": "M2c4xDIRURaF",
        "outputId": "994b2cf8-2a21-4d2a-e7d0-6d3d585795a3"
      },
      "execution_count": 23,
      "outputs": [
        {
          "output_type": "execute_result",
          "data": {
            "text/plain": [
              "tensor([30., 40., 50.])"
            ]
          },
          "metadata": {},
          "execution_count": 23
        }
      ]
    },
    {
      "cell_type": "code",
      "source": [
        "# Accessing all the learnable parameters\n",
        "\n",
        "for param in network.parameters():\n",
        "    print(param.shape)"
      ],
      "metadata": {
        "colab": {
          "base_uri": "https://localhost:8080/"
        },
        "id": "9_7hwpNoUa5R",
        "outputId": "a22b20be-7fcb-442a-f874-84f496cf9c7e"
      },
      "execution_count": 24,
      "outputs": [
        {
          "output_type": "stream",
          "name": "stdout",
          "text": [
            "torch.Size([6, 1, 5, 5])\n",
            "torch.Size([6])\n",
            "torch.Size([12, 6, 5, 5])\n",
            "torch.Size([12])\n",
            "torch.Size([120, 192])\n",
            "torch.Size([120])\n",
            "torch.Size([60, 120])\n",
            "torch.Size([60])\n",
            "torch.Size([10, 60])\n",
            "torch.Size([10])\n"
          ]
        }
      ]
    },
    {
      "cell_type": "code",
      "source": [
        "for name, param in network.named_parameters():\n",
        "    print(name, '\\t\\t', param.shape)"
      ],
      "metadata": {
        "colab": {
          "base_uri": "https://localhost:8080/"
        },
        "id": "k6Q2aENEVHHI",
        "outputId": "398839c6-6170-4823-cf8c-cc4ce08b8d05"
      },
      "execution_count": 25,
      "outputs": [
        {
          "output_type": "stream",
          "name": "stdout",
          "text": [
            "conv1.weight \t\t torch.Size([6, 1, 5, 5])\n",
            "conv1.bias \t\t torch.Size([6])\n",
            "conv2.weight \t\t torch.Size([12, 6, 5, 5])\n",
            "conv2.bias \t\t torch.Size([12])\n",
            "fc1.weight \t\t torch.Size([120, 192])\n",
            "fc1.bias \t\t torch.Size([120])\n",
            "fc2.weight \t\t torch.Size([60, 120])\n",
            "fc2.bias \t\t torch.Size([60])\n",
            "out.weight \t\t torch.Size([10, 60])\n",
            "out.bias \t\t torch.Size([10])\n"
          ]
        }
      ]
    },
    {
      "cell_type": "code",
      "source": [
        ""
      ],
      "metadata": {
        "id": "XROh9hA_VNau"
      },
      "execution_count": null,
      "outputs": []
    }
  ]
}