{
 "cells": [
  {
   "cell_type": "code",
   "execution_count": 1,
   "id": "9725d793",
   "metadata": {},
   "outputs": [],
   "source": [
    "# Tensor and Rank\n",
    "a = [1, 2, 3, 4] # Rank 1 Tensor"
   ]
  },
  {
   "cell_type": "code",
   "execution_count": 2,
   "id": "0c61bdd3",
   "metadata": {},
   "outputs": [
    {
     "data": {
      "text/plain": [
       "3"
      ]
     },
     "execution_count": 2,
     "metadata": {},
     "output_type": "execute_result"
    }
   ],
   "source": [
    "a[2]"
   ]
  },
  {
   "cell_type": "code",
   "execution_count": 3,
   "id": "f84e66d1",
   "metadata": {},
   "outputs": [],
   "source": [
    "dd = [\n",
    "    [1,2,3],\n",
    "    [4,5,6],\n",
    "    [7,8,9]\n",
    "] # Rank 2 Tensor"
   ]
  },
  {
   "cell_type": "code",
   "execution_count": 4,
   "id": "4ee9803e",
   "metadata": {},
   "outputs": [
    {
     "data": {
      "text/plain": [
       "3"
      ]
     },
     "execution_count": 4,
     "metadata": {},
     "output_type": "execute_result"
    }
   ],
   "source": [
    "dd[0][2]"
   ]
  },
  {
   "cell_type": "code",
   "execution_count": 11,
   "id": "8b75de56",
   "metadata": {},
   "outputs": [
    {
     "name": "stdout",
     "output_type": "stream",
     "text": [
      "[1, 2, 3]\n",
      "[4, 5, 6]\n",
      "[7, 8, 9]\n"
     ]
    }
   ],
   "source": [
    "# Axes\n",
    "# Each element along the 1st axis, is an array\n",
    "print(dd[0])\n",
    "print(dd[1])\n",
    "print(dd[2])"
   ]
  },
  {
   "cell_type": "code",
   "execution_count": 13,
   "id": "2464e7da",
   "metadata": {},
   "outputs": [
    {
     "name": "stdout",
     "output_type": "stream",
     "text": [
      "1\n",
      "2\n",
      "3\n",
      "4\n",
      "5\n",
      "6\n",
      "7\n",
      "8\n",
      "9\n"
     ]
    }
   ],
   "source": [
    "# Each element along the second axis, is a number:\n",
    "print(dd[0][0])\n",
    "print(dd[0][1])\n",
    "print(dd[0][2])\n",
    "\n",
    "print(dd[1][0])\n",
    "print(dd[1][1])\n",
    "print(dd[1][2])\n",
    "\n",
    "print(dd[2][0])\n",
    "print(dd[2][1])\n",
    "print(dd[2][2])"
   ]
  },
  {
   "cell_type": "code",
   "execution_count": 14,
   "id": "e85a9930",
   "metadata": {},
   "outputs": [],
   "source": [
    "# shape\n",
    "import torch"
   ]
  },
  {
   "cell_type": "code",
   "execution_count": 15,
   "id": "c124911a",
   "metadata": {},
   "outputs": [
    {
     "data": {
      "text/plain": [
       "tensor([[1, 2, 3],\n",
       "        [4, 5, 6],\n",
       "        [7, 8, 9]])"
      ]
     },
     "execution_count": 15,
     "metadata": {},
     "output_type": "execute_result"
    }
   ],
   "source": [
    "t = torch.tensor(dd)\n",
    "t"
   ]
  },
  {
   "cell_type": "code",
   "execution_count": 16,
   "id": "77890974",
   "metadata": {},
   "outputs": [
    {
     "data": {
      "text/plain": [
       "torch.Size([3, 3])"
      ]
     },
     "execution_count": 16,
     "metadata": {},
     "output_type": "execute_result"
    }
   ],
   "source": [
    "t.shape"
   ]
  },
  {
   "cell_type": "code",
   "execution_count": 17,
   "id": "1cd87723",
   "metadata": {},
   "outputs": [
    {
     "data": {
      "text/plain": [
       "tensor([[1, 2, 3, 4, 5, 6, 7, 8, 9]])"
      ]
     },
     "execution_count": 17,
     "metadata": {},
     "output_type": "execute_result"
    }
   ],
   "source": [
    "t.reshape(1, 9)"
   ]
  },
  {
   "cell_type": "code",
   "execution_count": 19,
   "id": "35ac1f32",
   "metadata": {},
   "outputs": [
    {
     "data": {
      "text/plain": [
       "torch.Size([1, 9])"
      ]
     },
     "execution_count": 19,
     "metadata": {},
     "output_type": "execute_result"
    }
   ],
   "source": [
    "t.reshape(1, 9).shape"
   ]
  },
  {
   "cell_type": "code",
   "execution_count": null,
   "id": "8817142f",
   "metadata": {},
   "outputs": [],
   "source": []
  }
 ],
 "metadata": {
  "kernelspec": {
   "display_name": "Python 3",
   "language": "python",
   "name": "python3"
  },
  "language_info": {
   "codemirror_mode": {
    "name": "ipython",
    "version": 3
   },
   "file_extension": ".py",
   "mimetype": "text/x-python",
   "name": "python",
   "nbconvert_exporter": "python",
   "pygments_lexer": "ipython3",
   "version": "3.9.4"
  }
 },
 "nbformat": 4,
 "nbformat_minor": 5
}
