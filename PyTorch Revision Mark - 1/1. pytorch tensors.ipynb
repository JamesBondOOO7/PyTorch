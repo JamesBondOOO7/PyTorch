{
  "nbformat": 4,
  "nbformat_minor": 0,
  "metadata": {
    "colab": {
      "name": "1. pytorch tensors.ipynb",
      "provenance": [],
      "collapsed_sections": []
    },
    "kernelspec": {
      "name": "python3",
      "display_name": "Python 3"
    },
    "language_info": {
      "name": "python"
    },
    "accelerator": "GPU"
  },
  "cells": [
    {
      "cell_type": "code",
      "execution_count": 1,
      "metadata": {
        "id": "2sdiXI54mR0w"
      },
      "outputs": [],
      "source": [
        "import torch"
      ]
    },
    {
      "cell_type": "code",
      "source": [
        "x = torch.empty(2)\n",
        "print(x)"
      ],
      "metadata": {
        "colab": {
          "base_uri": "https://localhost:8080/"
        },
        "id": "XQWJh9cSmWS5",
        "outputId": "0e1d2c04-abe3-4d4a-8533-3f0c34fa5bf9"
      },
      "execution_count": 2,
      "outputs": [
        {
          "output_type": "stream",
          "name": "stdout",
          "text": [
            "tensor([-3.7692e-32,  3.0805e-41])\n"
          ]
        }
      ]
    },
    {
      "cell_type": "code",
      "source": [
        "x = torch.empty(2, 4)\n",
        "print(x)"
      ],
      "metadata": {
        "colab": {
          "base_uri": "https://localhost:8080/"
        },
        "id": "euH5txYLmYsE",
        "outputId": "7d7e1f2e-6ea7-4c0c-973e-fc2878e30f05"
      },
      "execution_count": 3,
      "outputs": [
        {
          "output_type": "stream",
          "name": "stdout",
          "text": [
            "tensor([[-3.7693e-32,  3.0805e-41,  5.0447e-44,  0.0000e+00],\n",
            "        [        nan,  0.0000e+00,  1.3788e-14,  3.6423e-06]])\n"
          ]
        }
      ]
    },
    {
      "cell_type": "code",
      "source": [
        "x = torch.empty(2, 4, 3)\n",
        "print(x)"
      ],
      "metadata": {
        "colab": {
          "base_uri": "https://localhost:8080/"
        },
        "id": "N49-Lhgamipm",
        "outputId": "f09ccaf8-656e-4b18-fed7-c6572785b3df"
      },
      "execution_count": 4,
      "outputs": [
        {
          "output_type": "stream",
          "name": "stdout",
          "text": [
            "tensor([[[-3.7760e-32,  3.0805e-41,  7.0065e-44],\n",
            "         [ 7.0065e-44,  6.3058e-44,  6.7262e-44],\n",
            "         [ 6.8664e-44,  6.3058e-44,  6.8664e-44],\n",
            "         [ 6.8664e-44,  1.1771e-43,  6.8664e-44]],\n",
            "\n",
            "        [[ 7.9874e-44,  8.1275e-44,  7.1466e-44],\n",
            "         [ 7.7071e-44,  8.1275e-44,  6.7262e-44],\n",
            "         [ 7.7071e-44,  6.4460e-44,  7.5670e-44],\n",
            "         [ 7.1466e-44,  7.4269e-44,  7.9874e-44]]])\n"
          ]
        }
      ]
    },
    {
      "cell_type": "code",
      "source": [
        "# random\n",
        "x = torch.rand(2, 2)\n",
        "print(x)"
      ],
      "metadata": {
        "colab": {
          "base_uri": "https://localhost:8080/"
        },
        "id": "iQQxreS8mlnr",
        "outputId": "e406b7e0-30f6-4e37-ccad-bcdfdb35f03f"
      },
      "execution_count": 5,
      "outputs": [
        {
          "output_type": "stream",
          "name": "stdout",
          "text": [
            "tensor([[0.7085, 0.6286],\n",
            "        [0.2756, 0.0064]])\n"
          ]
        }
      ]
    },
    {
      "cell_type": "code",
      "source": [
        "# zeros\n",
        "x = torch.zeros(2, 2)\n",
        "print(x)"
      ],
      "metadata": {
        "colab": {
          "base_uri": "https://localhost:8080/"
        },
        "id": "aJhKqvbTmsIs",
        "outputId": "bd8781e0-2cb9-4150-b07d-419f448ad8e3"
      },
      "execution_count": 6,
      "outputs": [
        {
          "output_type": "stream",
          "name": "stdout",
          "text": [
            "tensor([[0., 0.],\n",
            "        [0., 0.]])\n"
          ]
        }
      ]
    },
    {
      "cell_type": "code",
      "source": [
        "x = torch.ones(2, 2)\n",
        "print(x.dtype)"
      ],
      "metadata": {
        "colab": {
          "base_uri": "https://localhost:8080/"
        },
        "id": "gfehJb_9mw-W",
        "outputId": "90424e27-609f-436b-eb24-4ad2452f8ba0"
      },
      "execution_count": 7,
      "outputs": [
        {
          "output_type": "stream",
          "name": "stdout",
          "text": [
            "torch.float32\n"
          ]
        }
      ]
    },
    {
      "cell_type": "code",
      "source": [
        "x = torch.ones(2, 2, dtype=torch.int)\n",
        "print(x.dtype)"
      ],
      "metadata": {
        "colab": {
          "base_uri": "https://localhost:8080/"
        },
        "id": "rHr5h7j6mzuD",
        "outputId": "0c82f54c-56a5-4e06-d3c2-c51388c1cf0e"
      },
      "execution_count": 8,
      "outputs": [
        {
          "output_type": "stream",
          "name": "stdout",
          "text": [
            "torch.int32\n"
          ]
        }
      ]
    },
    {
      "cell_type": "code",
      "source": [
        "x = torch.tensor([2.5, 0.1])\n",
        "print(x)"
      ],
      "metadata": {
        "colab": {
          "base_uri": "https://localhost:8080/"
        },
        "id": "yFDhyJJXm4wI",
        "outputId": "bfe7365a-c221-4dcb-8379-9421d2d58f44"
      },
      "execution_count": 9,
      "outputs": [
        {
          "output_type": "stream",
          "name": "stdout",
          "text": [
            "tensor([2.5000, 0.1000])\n"
          ]
        }
      ]
    },
    {
      "cell_type": "code",
      "source": [
        "x = torch.rand(2, 2)\n",
        "y = torch.rand(2, 2)\n",
        "\n",
        "print(x)\n",
        "print(y)\n",
        "\n",
        "z = x + y # element wise addition\n",
        "print(z)\n",
        "\n",
        "z = torch.add(x, y)\n",
        "print(z)"
      ],
      "metadata": {
        "colab": {
          "base_uri": "https://localhost:8080/"
        },
        "id": "Ao498pvdnCDd",
        "outputId": "fc9ee556-0b87-4aeb-d5bf-8b54023576e1"
      },
      "execution_count": 10,
      "outputs": [
        {
          "output_type": "stream",
          "name": "stdout",
          "text": [
            "tensor([[0.7064, 0.7747],\n",
            "        [0.9449, 0.9578]])\n",
            "tensor([[0.4010, 0.9740],\n",
            "        [0.2635, 0.6247]])\n",
            "tensor([[1.1074, 1.7487],\n",
            "        [1.2085, 1.5825]])\n",
            "tensor([[1.1074, 1.7487],\n",
            "        [1.2085, 1.5825]])\n"
          ]
        }
      ]
    },
    {
      "cell_type": "code",
      "source": [
        "# inplace addition\n",
        "y.add_(x)\n",
        "print(y)\n",
        "\n",
        "# same for sub/mul/div"
      ],
      "metadata": {
        "colab": {
          "base_uri": "https://localhost:8080/"
        },
        "id": "iPRO1fkjnKvz",
        "outputId": "8acb43b7-eebd-4221-c06b-8a1b4ffe1d5b"
      },
      "execution_count": 11,
      "outputs": [
        {
          "output_type": "stream",
          "name": "stdout",
          "text": [
            "tensor([[1.1074, 1.7487],\n",
            "        [1.2085, 1.5825]])\n"
          ]
        }
      ]
    },
    {
      "cell_type": "code",
      "source": [
        "# slicing\n",
        "\n",
        "x = torch.rand(5, 3)\n",
        "print(x.shape)\n",
        "\n",
        "print(x[:, 0].shape) # 1st column\n",
        "print(x[1, :].shape) # 2nd row"
      ],
      "metadata": {
        "colab": {
          "base_uri": "https://localhost:8080/"
        },
        "id": "KOEixFzDnUx8",
        "outputId": "591702b2-3209-4799-fb42-5739f0eb958f"
      },
      "execution_count": 12,
      "outputs": [
        {
          "output_type": "stream",
          "name": "stdout",
          "text": [
            "torch.Size([5, 3])\n",
            "torch.Size([5])\n",
            "torch.Size([3])\n"
          ]
        }
      ]
    },
    {
      "cell_type": "code",
      "source": [
        "# value\n",
        "print(x[1, 1].item())"
      ],
      "metadata": {
        "colab": {
          "base_uri": "https://localhost:8080/"
        },
        "id": "AVxtunvYnmvH",
        "outputId": "e8a41afa-d568-4e6a-936c-b7fac72dda61"
      },
      "execution_count": 13,
      "outputs": [
        {
          "output_type": "stream",
          "name": "stdout",
          "text": [
            "0.24426472187042236\n"
          ]
        }
      ]
    },
    {
      "cell_type": "code",
      "source": [
        "# reshaping a tensor\n",
        "x = torch.rand(4, 4)\n",
        "y = x.view(16)\n",
        "print(y)\n",
        "z = x.view(-1, 8)\n",
        "print(z)"
      ],
      "metadata": {
        "colab": {
          "base_uri": "https://localhost:8080/"
        },
        "id": "HioWnEPcn10g",
        "outputId": "7c10b505-60f4-4929-d6cd-37a81f751e9d"
      },
      "execution_count": 14,
      "outputs": [
        {
          "output_type": "stream",
          "name": "stdout",
          "text": [
            "tensor([0.5699, 0.1600, 0.7155, 0.2496, 0.2835, 0.6301, 0.4589, 0.7017, 0.5896,\n",
            "        0.4155, 0.7050, 0.2397, 0.3930, 0.8195, 0.7618, 0.2925])\n",
            "tensor([[0.5699, 0.1600, 0.7155, 0.2496, 0.2835, 0.6301, 0.4589, 0.7017],\n",
            "        [0.5896, 0.4155, 0.7050, 0.2397, 0.3930, 0.8195, 0.7618, 0.2925]])\n"
          ]
        }
      ]
    },
    {
      "cell_type": "code",
      "source": [
        "# numpy <==> torch tensors\n",
        "\n",
        "import numpy as np\n",
        "\n",
        "a = torch.ones(5)\n",
        "print(type(a))\n",
        "\n",
        "b = a.numpy()\n",
        "print(type(b))"
      ],
      "metadata": {
        "colab": {
          "base_uri": "https://localhost:8080/"
        },
        "id": "YjmQ7ewbn8mT",
        "outputId": "640de6ac-f004-4c13-d99b-7b008bf6b1f3"
      },
      "execution_count": 15,
      "outputs": [
        {
          "output_type": "stream",
          "name": "stdout",
          "text": [
            "<class 'torch.Tensor'>\n",
            "<class 'numpy.ndarray'>\n"
          ]
        }
      ]
    },
    {
      "cell_type": "code",
      "source": [
        "a.add_(1)\n",
        "print(a)"
      ],
      "metadata": {
        "colab": {
          "base_uri": "https://localhost:8080/"
        },
        "id": "7eJhV7xIoPvS",
        "outputId": "669cbe81-b8e1-4bf1-f9d1-e493466dd04c"
      },
      "execution_count": 16,
      "outputs": [
        {
          "output_type": "stream",
          "name": "stdout",
          "text": [
            "tensor([2., 2., 2., 2., 2.])\n"
          ]
        }
      ]
    },
    {
      "cell_type": "code",
      "source": [
        "print(b) # => they both point to the same memory location"
      ],
      "metadata": {
        "colab": {
          "base_uri": "https://localhost:8080/"
        },
        "id": "Gufbpm2HoZdb",
        "outputId": "9ebca063-2897-4a3b-a5da-3aaed7c38f03"
      },
      "execution_count": 17,
      "outputs": [
        {
          "output_type": "stream",
          "name": "stdout",
          "text": [
            "[2. 2. 2. 2. 2.]\n"
          ]
        }
      ]
    },
    {
      "cell_type": "code",
      "source": [
        "a = np.ones(5)\n",
        "print(type(a))\n",
        "\n",
        "b = torch.from_numpy(a)\n",
        "print(type(b))"
      ],
      "metadata": {
        "colab": {
          "base_uri": "https://localhost:8080/"
        },
        "id": "hXof3_zqoaNo",
        "outputId": "6e0cacba-0f4f-4af2-ae77-cdda2622ea4d"
      },
      "execution_count": 18,
      "outputs": [
        {
          "output_type": "stream",
          "name": "stdout",
          "text": [
            "<class 'numpy.ndarray'>\n",
            "<class 'torch.Tensor'>\n"
          ]
        }
      ]
    },
    {
      "cell_type": "code",
      "source": [
        "a += 1\n",
        "print(a)\n",
        "\n",
        "print(b) # => they both point to the same memory location"
      ],
      "metadata": {
        "colab": {
          "base_uri": "https://localhost:8080/"
        },
        "id": "CoJgP7QAorB4",
        "outputId": "b23d941f-7a89-4b2e-8901-b4b4ceed7ca3"
      },
      "execution_count": 19,
      "outputs": [
        {
          "output_type": "stream",
          "name": "stdout",
          "text": [
            "[2. 2. 2. 2. 2.]\n",
            "tensor([2., 2., 2., 2., 2.], dtype=torch.float64)\n"
          ]
        }
      ]
    },
    {
      "cell_type": "code",
      "source": [
        "if torch.cuda.is_available():\n",
        "    device = torch.device(\"cuda\")\n",
        "    x = torch.ones(5, device=device)\n",
        "    y = torch.ones(5)\n",
        "\n",
        "    y = y.to(device)\n",
        "\n",
        "    z = x + y\n",
        "    print(z)\n",
        "    # z.numpy() -- error !!\n",
        "\n",
        "    z = z.to(\"cpu\")\n",
        "    print(z)"
      ],
      "metadata": {
        "colab": {
          "base_uri": "https://localhost:8080/"
        },
        "id": "_fvHVYEAou4L",
        "outputId": "131685f6-bbbb-4a5a-9a17-0a6da09f1d10"
      },
      "execution_count": 22,
      "outputs": [
        {
          "output_type": "stream",
          "name": "stdout",
          "text": [
            "tensor([2., 2., 2., 2., 2.], device='cuda:0')\n",
            "tensor([2., 2., 2., 2., 2.])\n"
          ]
        }
      ]
    },
    {
      "cell_type": "code",
      "source": [
        "x = torch.ones(5, requires_grad=True) # tells that we would require to calculate\n",
        "# the gradient\n",
        "print(x)"
      ],
      "metadata": {
        "colab": {
          "base_uri": "https://localhost:8080/"
        },
        "id": "C1QqbiAppUYn",
        "outputId": "00f96c89-2eec-4509-c013-23ba7c1cb8a6"
      },
      "execution_count": 23,
      "outputs": [
        {
          "output_type": "stream",
          "name": "stdout",
          "text": [
            "tensor([1., 1., 1., 1., 1.], requires_grad=True)\n"
          ]
        }
      ]
    },
    {
      "cell_type": "code",
      "source": [
        ""
      ],
      "metadata": {
        "id": "0Pe3OABHpbx2"
      },
      "execution_count": null,
      "outputs": []
    }
  ]
}