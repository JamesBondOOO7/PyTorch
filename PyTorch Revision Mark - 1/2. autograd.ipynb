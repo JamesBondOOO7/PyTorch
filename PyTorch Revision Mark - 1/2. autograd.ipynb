{
  "nbformat": 4,
  "nbformat_minor": 0,
  "metadata": {
    "colab": {
      "name": "autograd.ipynb",
      "provenance": []
    },
    "kernelspec": {
      "name": "python3",
      "display_name": "Python 3"
    },
    "language_info": {
      "name": "python"
    }
  },
  "cells": [
    {
      "cell_type": "code",
      "execution_count": 1,
      "metadata": {
        "id": "3DWFs2xm7SLq"
      },
      "outputs": [],
      "source": [
        "import torch"
      ]
    },
    {
      "cell_type": "code",
      "source": [
        "x = torch.randn(3, requires_grad=True)\n",
        "print(x)"
      ],
      "metadata": {
        "colab": {
          "base_uri": "https://localhost:8080/"
        },
        "id": "oRIICKKR7aIu",
        "outputId": "1267c5b6-9538-4bc5-d627-4b37858a489c"
      },
      "execution_count": 8,
      "outputs": [
        {
          "output_type": "stream",
          "name": "stdout",
          "text": [
            "tensor([-0.9317,  0.0797, -0.8451], requires_grad=True)\n"
          ]
        }
      ]
    },
    {
      "cell_type": "code",
      "source": [
        "y = x+2\n",
        "print(y)"
      ],
      "metadata": {
        "colab": {
          "base_uri": "https://localhost:8080/"
        },
        "id": "U7RkN-yx7jN8",
        "outputId": "2bf19185-82c0-4e36-a109-f1fb73018e8a"
      },
      "execution_count": 9,
      "outputs": [
        {
          "output_type": "stream",
          "name": "stdout",
          "text": [
            "tensor([1.0683, 2.0797, 1.1549], grad_fn=<AddBackward0>)\n"
          ]
        }
      ]
    },
    {
      "cell_type": "code",
      "source": [
        "z = y*y*2\n",
        "print(z)"
      ],
      "metadata": {
        "colab": {
          "base_uri": "https://localhost:8080/"
        },
        "id": "wi5sy-mJ7-gh",
        "outputId": "f129fc40-8841-436c-b931-ff2d1e3d49be"
      },
      "execution_count": 10,
      "outputs": [
        {
          "output_type": "stream",
          "name": "stdout",
          "text": [
            "tensor([2.2824, 8.6499, 2.6677], grad_fn=<MulBackward0>)\n"
          ]
        }
      ]
    },
    {
      "cell_type": "code",
      "source": [
        "z = z.mean()\n",
        "print(z)"
      ],
      "metadata": {
        "colab": {
          "base_uri": "https://localhost:8080/"
        },
        "id": "3OKtCAvm8ESL",
        "outputId": "0f1ff24c-f777-4fa2-845f-5b8556bef9bb"
      },
      "execution_count": 11,
      "outputs": [
        {
          "output_type": "stream",
          "name": "stdout",
          "text": [
            "tensor(4.5334, grad_fn=<MeanBackward0>)\n"
          ]
        }
      ]
    },
    {
      "cell_type": "code",
      "source": [
        "z.backward() # dz/dx\n",
        "# Note: we aren't passing any arguments in the backward function\n",
        "# as it is a scalar value\n",
        "print(x.grad)"
      ],
      "metadata": {
        "colab": {
          "base_uri": "https://localhost:8080/"
        },
        "id": "kja4UdKD8H3f",
        "outputId": "522a4bb0-b951-4f24-9eab-0c2d7e3d4350"
      },
      "execution_count": 12,
      "outputs": [
        {
          "output_type": "stream",
          "name": "stdout",
          "text": [
            "tensor([1.4244, 2.7729, 1.5399])\n"
          ]
        }
      ]
    },
    {
      "cell_type": "code",
      "source": [
        "x = torch.ones(3, requires_grad=True)\n",
        "y = x+2\n",
        "z = y*y*2\n",
        "v = torch.tensor([0.1, 1.0, 0.001], dtype=torch.float32)\n",
        "z.backward(v)\n",
        "print(x.grad)"
      ],
      "metadata": {
        "colab": {
          "base_uri": "https://localhost:8080/"
        },
        "id": "lA7MOFXe8PEi",
        "outputId": "eca4f2f9-f2d0-4896-c9fe-58d27f13c6fa"
      },
      "execution_count": 14,
      "outputs": [
        {
          "output_type": "stream",
          "name": "stdout",
          "text": [
            "tensor([ 1.2000, 12.0000,  0.0120])\n"
          ]
        }
      ]
    },
    {
      "cell_type": "code",
      "source": [
        "x = torch.tensor([0, 1, 2], dtype=torch.float, requires_grad=True)\n",
        "y = x*x\n",
        "v = torch.tensor([0, 0.8, 0.2], dtype=torch.float32)\n",
        "y.backward(v)\n",
        "print(x.grad)"
      ],
      "metadata": {
        "colab": {
          "base_uri": "https://localhost:8080/"
        },
        "id": "sn1Rlrx09Lwb",
        "outputId": "e5cc5bf5-e491-41ca-92d0-fdf3c3c75d83"
      },
      "execution_count": 19,
      "outputs": [
        {
          "output_type": "stream",
          "name": "stdout",
          "text": [
            "tensor([0.0000, 1.6000, 0.8000])\n"
          ]
        }
      ]
    },
    {
      "cell_type": "markdown",
      "source": [
        "## How to avoid PyTorch from keeping history of grad"
      ],
      "metadata": {
        "id": "EbcE-xHW_jQa"
      }
    },
    {
      "cell_type": "code",
      "source": [
        "x = torch.tensor([0, 1, 2], dtype=torch.float, requires_grad=True)\n",
        "print(x)\n",
        "x.requires_grad_(False)\n",
        "print(x)"
      ],
      "metadata": {
        "colab": {
          "base_uri": "https://localhost:8080/"
        },
        "id": "SOVKPb5Z989C",
        "outputId": "4296272f-3885-4265-a70f-f398c8622ee7"
      },
      "execution_count": 20,
      "outputs": [
        {
          "output_type": "stream",
          "name": "stdout",
          "text": [
            "tensor([0., 1., 2.], requires_grad=True)\n",
            "tensor([0., 1., 2.])\n"
          ]
        }
      ]
    },
    {
      "cell_type": "code",
      "source": [
        "x = torch.tensor([0, 1, 2], dtype=torch.float, requires_grad=True)\n",
        "print(x)\n",
        "y = x.detach()\n",
        "print(y)"
      ],
      "metadata": {
        "colab": {
          "base_uri": "https://localhost:8080/"
        },
        "id": "v5ZG0KfD_sm3",
        "outputId": "b7851051-1142-41bb-f6f1-80960ea1d803"
      },
      "execution_count": 21,
      "outputs": [
        {
          "output_type": "stream",
          "name": "stdout",
          "text": [
            "tensor([0., 1., 2.], requires_grad=True)\n",
            "tensor([0., 1., 2.])\n"
          ]
        }
      ]
    },
    {
      "cell_type": "code",
      "source": [
        "x = torch.tensor([0, 1, 2], dtype=torch.float, requires_grad=True)\n",
        "print(x)\n",
        "with torch.no_grad():\n",
        "    print(x)\n",
        "    y = x * 2\n",
        "    print(y)"
      ],
      "metadata": {
        "colab": {
          "base_uri": "https://localhost:8080/"
        },
        "id": "vhFymiTP_wye",
        "outputId": "f253e273-2a72-4564-f338-8bc3357056d6"
      },
      "execution_count": 22,
      "outputs": [
        {
          "output_type": "stream",
          "name": "stdout",
          "text": [
            "tensor([0., 1., 2.], requires_grad=True)\n",
            "tensor([0., 1., 2.], requires_grad=True)\n",
            "tensor([0., 2., 4.])\n"
          ]
        }
      ]
    },
    {
      "cell_type": "code",
      "source": [
        ""
      ],
      "metadata": {
        "id": "tU2-q_o5_4zg"
      },
      "execution_count": null,
      "outputs": []
    }
  ]
}