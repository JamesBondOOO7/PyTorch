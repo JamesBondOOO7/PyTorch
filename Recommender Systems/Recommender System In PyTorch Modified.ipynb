{
 "cells": [
  {
   "cell_type": "code",
   "execution_count": 1,
   "id": "neither-tract",
   "metadata": {
    "execution": {
     "iopub.execute_input": "2021-06-06T09:23:10.193777Z",
     "iopub.status.busy": "2021-06-06T09:23:10.192256Z",
     "iopub.status.idle": "2021-06-06T09:23:12.082415Z",
     "shell.execute_reply": "2021-06-06T09:23:12.081814Z",
     "shell.execute_reply.started": "2021-06-06T08:52:44.427566Z"
    },
    "id": "b2rE-bpEpmNl",
    "papermill": {
     "duration": 1.908896,
     "end_time": "2021-06-06T09:23:12.082574",
     "exception": false,
     "start_time": "2021-06-06T09:23:10.173678",
     "status": "completed"
    },
    "tags": []
   },
   "outputs": [],
   "source": [
    "import torch\n",
    "import torch.nn as nn\n",
    "import torch.nn.functional as F\n",
    "import numpy as np\n",
    "import pandas as pd\n",
    "import matplotlib.pyplot as plt\n",
    "from datetime import datetime\n",
    "from sklearn.utils import shuffle"
   ]
  },
  {
   "cell_type": "code",
   "execution_count": 2,
   "id": "associate-benjamin",
   "metadata": {
    "execution": {
     "iopub.execute_input": "2021-06-06T09:23:12.114036Z",
     "iopub.status.busy": "2021-06-06T09:23:12.113506Z",
     "iopub.status.idle": "2021-06-06T09:23:16.937492Z",
     "shell.execute_reply": "2021-06-06T09:23:16.936979Z",
     "shell.execute_reply.started": "2021-06-06T08:52:48.918513Z"
    },
    "id": "tT2PWWayqFGj",
    "outputId": "dba3c393-d01a-49c9-e857-032a257c0a9f",
    "papermill": {
     "duration": 4.841162,
     "end_time": "2021-06-06T09:23:16.937678",
     "exception": false,
     "start_time": "2021-06-06T09:23:12.096516",
     "status": "completed"
    },
    "tags": []
   },
   "outputs": [
    {
     "name": "stdout",
     "output_type": "stream",
     "text": [
      "--2021-06-06 09:23:12--  http://files.grouplens.org/datasets/movielens/ml-20m.zip\r\n",
      "Resolving files.grouplens.org (files.grouplens.org)... 128.101.65.152\r\n",
      "Connecting to files.grouplens.org (files.grouplens.org)|128.101.65.152|:80... connected.\r\n",
      "HTTP request sent, awaiting response... 200 OK\r\n",
      "Length: 198702078 (189M) [application/zip]\r\n",
      "Saving to: ‘ml-20m.zip’\r\n",
      "\r\n",
      "ml-20m.zip          100%[===================>] 189.50M  53.8MB/s    in 3.9s    \r\n",
      "\r\n",
      "2021-06-06 09:23:16 (49.1 MB/s) - ‘ml-20m.zip’ saved [198702078/198702078]\r\n",
      "\r\n"
     ]
    }
   ],
   "source": [
    "# Dataset\n",
    "!wget -nc http://files.grouplens.org/datasets/movielens/ml-20m.zip"
   ]
  },
  {
   "cell_type": "code",
   "execution_count": 3,
   "id": "valuable-robin",
   "metadata": {
    "execution": {
     "iopub.execute_input": "2021-06-06T09:23:16.987774Z",
     "iopub.status.busy": "2021-06-06T09:23:16.987173Z",
     "iopub.status.idle": "2021-06-06T09:23:23.775260Z",
     "shell.execute_reply": "2021-06-06T09:23:23.774790Z",
     "shell.execute_reply.started": "2021-06-06T08:52:53.934696Z"
    },
    "id": "tiUcnMGzqLN9",
    "outputId": "821db3b0-4c2c-4e1a-c5bb-f13a0a117944",
    "papermill": {
     "duration": 6.817253,
     "end_time": "2021-06-06T09:23:23.775384",
     "exception": false,
     "start_time": "2021-06-06T09:23:16.958131",
     "status": "completed"
    },
    "tags": []
   },
   "outputs": [
    {
     "name": "stdout",
     "output_type": "stream",
     "text": [
      "Archive:  ml-20m.zip\r\n",
      "   creating: ml-20m/\r\n",
      "  inflating: ml-20m/genome-scores.csv  \r\n",
      "  inflating: ml-20m/genome-tags.csv  \r\n",
      "  inflating: ml-20m/links.csv        \r\n",
      "  inflating: ml-20m/movies.csv       \r\n",
      "  inflating: ml-20m/ratings.csv      \r\n",
      "  inflating: ml-20m/README.txt       \r\n",
      "  inflating: ml-20m/tags.csv         \r\n"
     ]
    }
   ],
   "source": [
    "!unzip -n ml-20m.zip"
   ]
  },
  {
   "cell_type": "code",
   "execution_count": 4,
   "id": "racial-listening",
   "metadata": {
    "execution": {
     "iopub.execute_input": "2021-06-06T09:23:23.826161Z",
     "iopub.status.busy": "2021-06-06T09:23:23.821284Z",
     "iopub.status.idle": "2021-06-06T09:23:24.545368Z",
     "shell.execute_reply": "2021-06-06T09:23:24.544905Z",
     "shell.execute_reply.started": "2021-06-06T08:53:00.632470Z"
    },
    "id": "JUW_ALXoqOIs",
    "outputId": "a119ee50-ef40-4a6a-ba05-f355e0aba2bc",
    "papermill": {
     "duration": 0.749024,
     "end_time": "2021-06-06T09:23:24.545498",
     "exception": false,
     "start_time": "2021-06-06T09:23:23.796474",
     "status": "completed"
    },
    "tags": []
   },
   "outputs": [
    {
     "name": "stdout",
     "output_type": "stream",
     "text": [
      "__notebook__.ipynb  ml-20m  ml-20m.zip\r\n"
     ]
    }
   ],
   "source": [
    "!ls"
   ]
  },
  {
   "cell_type": "code",
   "execution_count": 5,
   "id": "exterior-basic",
   "metadata": {
    "execution": {
     "iopub.execute_input": "2021-06-06T09:23:24.592934Z",
     "iopub.status.busy": "2021-06-06T09:23:24.592146Z",
     "iopub.status.idle": "2021-06-06T09:23:30.696253Z",
     "shell.execute_reply": "2021-06-06T09:23:30.695737Z",
     "shell.execute_reply.started": "2021-06-06T09:07:16.376553Z"
    },
    "id": "RXjHQZ3PqQ4W",
    "outputId": "3b3b41c9-7c48-4a77-f6b6-79ac174e4aca",
    "papermill": {
     "duration": 6.129206,
     "end_time": "2021-06-06T09:23:30.696415",
     "exception": false,
     "start_time": "2021-06-06T09:23:24.567209",
     "status": "completed"
    },
    "tags": []
   },
   "outputs": [
    {
     "data": {
      "text/html": [
       "<div>\n",
       "<style scoped>\n",
       "    .dataframe tbody tr th:only-of-type {\n",
       "        vertical-align: middle;\n",
       "    }\n",
       "\n",
       "    .dataframe tbody tr th {\n",
       "        vertical-align: top;\n",
       "    }\n",
       "\n",
       "    .dataframe thead th {\n",
       "        text-align: right;\n",
       "    }\n",
       "</style>\n",
       "<table border=\"1\" class=\"dataframe\">\n",
       "  <thead>\n",
       "    <tr style=\"text-align: right;\">\n",
       "      <th></th>\n",
       "      <th>userId</th>\n",
       "      <th>movieId</th>\n",
       "      <th>rating</th>\n",
       "      <th>timestamp</th>\n",
       "    </tr>\n",
       "  </thead>\n",
       "  <tbody>\n",
       "    <tr>\n",
       "      <th>0</th>\n",
       "      <td>1</td>\n",
       "      <td>2</td>\n",
       "      <td>3.5</td>\n",
       "      <td>1112486027</td>\n",
       "    </tr>\n",
       "    <tr>\n",
       "      <th>1</th>\n",
       "      <td>1</td>\n",
       "      <td>29</td>\n",
       "      <td>3.5</td>\n",
       "      <td>1112484676</td>\n",
       "    </tr>\n",
       "    <tr>\n",
       "      <th>2</th>\n",
       "      <td>1</td>\n",
       "      <td>32</td>\n",
       "      <td>3.5</td>\n",
       "      <td>1112484819</td>\n",
       "    </tr>\n",
       "    <tr>\n",
       "      <th>3</th>\n",
       "      <td>1</td>\n",
       "      <td>47</td>\n",
       "      <td>3.5</td>\n",
       "      <td>1112484727</td>\n",
       "    </tr>\n",
       "    <tr>\n",
       "      <th>4</th>\n",
       "      <td>1</td>\n",
       "      <td>50</td>\n",
       "      <td>3.5</td>\n",
       "      <td>1112484580</td>\n",
       "    </tr>\n",
       "  </tbody>\n",
       "</table>\n",
       "</div>"
      ],
      "text/plain": [
       "   userId  movieId  rating   timestamp\n",
       "0       1        2     3.5  1112486027\n",
       "1       1       29     3.5  1112484676\n",
       "2       1       32     3.5  1112484819\n",
       "3       1       47     3.5  1112484727\n",
       "4       1       50     3.5  1112484580"
      ]
     },
     "execution_count": 5,
     "metadata": {},
     "output_type": "execute_result"
    }
   ],
   "source": [
    "df = pd.read_csv('ml-20m/ratings.csv')\n",
    "df.head()"
   ]
  },
  {
   "cell_type": "code",
   "execution_count": 6,
   "id": "effective-feeding",
   "metadata": {
    "execution": {
     "iopub.execute_input": "2021-06-06T09:23:30.757335Z",
     "iopub.status.busy": "2021-06-06T09:23:30.756494Z",
     "iopub.status.idle": "2021-06-06T09:23:31.900598Z",
     "shell.execute_reply": "2021-06-06T09:23:31.900115Z",
     "shell.execute_reply.started": "2021-06-06T09:07:26.673456Z"
    },
    "id": "U5Yl5z8rqWv0",
    "papermill": {
     "duration": 1.180446,
     "end_time": "2021-06-06T09:23:31.900735",
     "exception": false,
     "start_time": "2021-06-06T09:23:30.720289",
     "status": "completed"
    },
    "tags": []
   },
   "outputs": [],
   "source": [
    "# Creating our new ids for the userId\n",
    "df.userId = pd.Categorical(df.userId)\n",
    "df['new_user_id'] = df.userId.cat.codes\n",
    "\n",
    "# same for movieId\n",
    "df.movieId = pd.Categorical(df.movieId)\n",
    "df['new_movie_id'] = df.movieId.cat.codes"
   ]
  },
  {
   "cell_type": "code",
   "execution_count": 7,
   "id": "dried-russia",
   "metadata": {
    "execution": {
     "iopub.execute_input": "2021-06-06T09:23:31.949138Z",
     "iopub.status.busy": "2021-06-06T09:23:31.948087Z",
     "iopub.status.idle": "2021-06-06T09:23:31.989933Z",
     "shell.execute_reply": "2021-06-06T09:23:31.989454Z",
     "shell.execute_reply.started": "2021-06-06T09:12:22.056859Z"
    },
    "id": "EDZpvKNzrlwp",
    "papermill": {
     "duration": 0.067769,
     "end_time": "2021-06-06T09:23:31.990070",
     "exception": false,
     "start_time": "2021-06-06T09:23:31.922301",
     "status": "completed"
    },
    "tags": []
   },
   "outputs": [],
   "source": [
    "# Get user IDs, movie IDs and ratings as separate arrays\n",
    "user_ids = df['new_user_id'].values\n",
    "movie_ids = df['new_movie_id'].values\n",
    "ratings = np.array(df['rating'].values, dtype=np.float32) - 2.5  # shifting"
   ]
  },
  {
   "cell_type": "code",
   "execution_count": 8,
   "id": "geographic-memory",
   "metadata": {
    "execution": {
     "iopub.execute_input": "2021-06-06T09:23:32.037246Z",
     "iopub.status.busy": "2021-06-06T09:23:32.036710Z",
     "iopub.status.idle": "2021-06-06T09:23:32.042705Z",
     "shell.execute_reply": "2021-06-06T09:23:32.042256Z",
     "shell.execute_reply.started": "2021-06-06T09:12:27.745433Z"
    },
    "papermill": {
     "duration": 0.031407,
     "end_time": "2021-06-06T09:23:32.042816",
     "exception": false,
     "start_time": "2021-06-06T09:23:32.011409",
     "status": "completed"
    },
    "tags": []
   },
   "outputs": [
    {
     "data": {
      "text/plain": [
       "(20000263,)"
      ]
     },
     "execution_count": 8,
     "metadata": {},
     "output_type": "execute_result"
    }
   ],
   "source": [
    "ratings.shape"
   ]
  },
  {
   "cell_type": "code",
   "execution_count": 9,
   "id": "great-architect",
   "metadata": {
    "execution": {
     "iopub.execute_input": "2021-06-06T09:23:36.535184Z",
     "iopub.status.busy": "2021-06-06T09:23:36.519243Z",
     "iopub.status.idle": "2021-06-06T09:23:40.813626Z",
     "shell.execute_reply": "2021-06-06T09:23:40.813100Z",
     "shell.execute_reply.started": "2021-06-06T09:12:29.109545Z"
    },
    "id": "zFlCKtmgsHch",
    "papermill": {
     "duration": 8.74871,
     "end_time": "2021-06-06T09:23:40.813759",
     "exception": false,
     "start_time": "2021-06-06T09:23:32.065049",
     "status": "completed"
    },
    "tags": []
   },
   "outputs": [],
   "source": [
    "# Get number of users and number of movies\n",
    "N = len(set(user_ids))\n",
    "M = len(set(movie_ids))\n",
    "\n",
    "# Set embedding dimension\n",
    "D = 10"
   ]
  },
  {
   "cell_type": "code",
   "execution_count": 10,
   "id": "green-commerce",
   "metadata": {
    "execution": {
     "iopub.execute_input": "2021-06-06T09:23:40.864970Z",
     "iopub.status.busy": "2021-06-06T09:23:40.864265Z",
     "iopub.status.idle": "2021-06-06T09:23:40.866884Z",
     "shell.execute_reply": "2021-06-06T09:23:40.866377Z",
     "shell.execute_reply.started": "2021-06-06T09:21:26.247731Z"
    },
    "id": "K-u2FmlasWtf",
    "papermill": {
     "duration": 0.031937,
     "end_time": "2021-06-06T09:23:40.866986",
     "exception": false,
     "start_time": "2021-06-06T09:23:40.835049",
     "status": "completed"
    },
    "tags": []
   },
   "outputs": [],
   "source": [
    "# Model\n",
    "class Model(nn.Module):\n",
    "\n",
    "    def __init__(self, n_users, n_items, embed_dim, n_hidden=1024):\n",
    "\n",
    "        super(Model, self).__init__()\n",
    "        self.N = n_users\n",
    "        self.M = n_items\n",
    "        self.D = embed_dim\n",
    "\n",
    "        self.u_emb = nn.Embedding(self.N, self.D)\n",
    "        self.m_emb = nn.Embedding(self.M, self.D)\n",
    "        self.fc1 = nn.Linear(2*self.D, n_hidden)\n",
    "        self.fc2 = nn.Linear(n_hidden, 1)\n",
    "        \n",
    "        # OPTIMIZATION TRICK : INIT WITH CUSTOM RANDOM WEIGHTS\n",
    "        # set the weight since N(0, 1) leads to poor results\n",
    "        self.u_emb.weight.data = nn.Parameter(\n",
    "            torch.Tensor(np.random.randn(self.N, self.D) * 0.01))\n",
    "        self.m_emb.weight.data = nn.Parameter(\n",
    "            torch.Tensor(np.random.randn(self.M, self.D) * 0.01))\n",
    "\n",
    "    def forward(self, u, m):\n",
    "\n",
    "        # N --> N X D\n",
    "        u = self.u_emb(u)\n",
    "        m = self.m_emb(m)\n",
    "\n",
    "        # merge the two networks\n",
    "        # (out) : N X 2D\n",
    "        out = torch.cat((u, m), 1)\n",
    "\n",
    "        # ANN\n",
    "        out = self.fc1(out)\n",
    "        out = F.relu(out)\n",
    "        out = self.fc2(out)\n",
    "        return out\n"
   ]
  },
  {
   "cell_type": "code",
   "execution_count": 11,
   "id": "olive-suspect",
   "metadata": {
    "execution": {
     "iopub.execute_input": "2021-06-06T09:23:40.963731Z",
     "iopub.status.busy": "2021-06-06T09:23:40.963073Z",
     "iopub.status.idle": "2021-06-06T09:23:40.966276Z",
     "shell.execute_reply": "2021-06-06T09:23:40.966873Z",
     "shell.execute_reply.started": "2021-06-06T09:21:26.596431Z"
    },
    "id": "OQWt4PSithAZ",
    "outputId": "8997ab48-bd2d-4bb8-ca0f-ae5773258431",
    "papermill": {
     "duration": 0.079031,
     "end_time": "2021-06-06T09:23:40.967043",
     "exception": false,
     "start_time": "2021-06-06T09:23:40.888012",
     "status": "completed"
    },
    "tags": []
   },
   "outputs": [
    {
     "name": "stdout",
     "output_type": "stream",
     "text": [
      "cuda\n"
     ]
    }
   ],
   "source": [
    "device = torch.device(\"cuda\" if torch.cuda.is_available() else \"cpu\")\n",
    "print(device)\n"
   ]
  },
  {
   "cell_type": "code",
   "execution_count": 12,
   "id": "reflected-distinction",
   "metadata": {
    "execution": {
     "iopub.execute_input": "2021-06-06T09:23:41.025683Z",
     "iopub.status.busy": "2021-06-06T09:23:41.025161Z",
     "iopub.status.idle": "2021-06-06T09:23:45.670563Z",
     "shell.execute_reply": "2021-06-06T09:23:45.670106Z",
     "shell.execute_reply.started": "2021-06-06T09:21:26.792565Z"
    },
    "id": "CpZf17C6trcl",
    "outputId": "45ec7154-53da-4dee-917a-ac7e73ec25e9",
    "papermill": {
     "duration": 4.673305,
     "end_time": "2021-06-06T09:23:45.670700",
     "exception": false,
     "start_time": "2021-06-06T09:23:40.997395",
     "status": "completed"
    },
    "tags": []
   },
   "outputs": [
    {
     "data": {
      "text/plain": [
       "Model(\n",
       "  (u_emb): Embedding(138493, 10)\n",
       "  (m_emb): Embedding(26744, 10)\n",
       "  (fc1): Linear(in_features=20, out_features=1024, bias=True)\n",
       "  (fc2): Linear(in_features=1024, out_features=1, bias=True)\n",
       ")"
      ]
     },
     "execution_count": 12,
     "metadata": {},
     "output_type": "execute_result"
    }
   ],
   "source": [
    "model = Model(n_users=N, n_items=M, embed_dim=D)\n",
    "model.to(device)"
   ]
  },
  {
   "cell_type": "code",
   "execution_count": 13,
   "id": "celtic-kuwait",
   "metadata": {
    "execution": {
     "iopub.execute_input": "2021-06-06T09:23:45.719289Z",
     "iopub.status.busy": "2021-06-06T09:23:45.718083Z",
     "iopub.status.idle": "2021-06-06T09:23:45.720922Z",
     "shell.execute_reply": "2021-06-06T09:23:45.720388Z",
     "shell.execute_reply.started": "2021-06-06T09:21:26.998198Z"
    },
    "id": "6ljOODw1t4Gr",
    "papermill": {
     "duration": 0.028446,
     "end_time": "2021-06-06T09:23:45.721027",
     "exception": false,
     "start_time": "2021-06-06T09:23:45.692581",
     "status": "completed"
    },
    "tags": []
   },
   "outputs": [],
   "source": [
    "# Loss and optimizer\n",
    "criterion = nn.MSELoss()\n",
    "optimizer = torch.optim.SGD(model.parameters(), lr=0.08, momentum=0.9)"
   ]
  },
  {
   "cell_type": "markdown",
   "id": "tired-triple",
   "metadata": {
    "papermill": {
     "duration": 0.021364,
     "end_time": "2021-06-06T09:23:45.763969",
     "exception": false,
     "start_time": "2021-06-06T09:23:45.742605",
     "status": "completed"
    },
    "tags": []
   },
   "source": [
    "## New Optimized Training Function\n",
    "- Without using PyTorch's inbuilt Data Loaders\n",
    "- Initializing our own random weights initially"
   ]
  },
  {
   "cell_type": "code",
   "execution_count": 14,
   "id": "chubby-little",
   "metadata": {
    "execution": {
     "iopub.execute_input": "2021-06-06T09:23:45.821094Z",
     "iopub.status.busy": "2021-06-06T09:23:45.820421Z",
     "iopub.status.idle": "2021-06-06T09:23:45.823660Z",
     "shell.execute_reply": "2021-06-06T09:23:45.823253Z",
     "shell.execute_reply.started": "2021-06-06T09:21:27.370377Z"
    },
    "papermill": {
     "duration": 0.038113,
     "end_time": "2021-06-06T09:23:45.823763",
     "exception": false,
     "start_time": "2021-06-06T09:23:45.785650",
     "status": "completed"
    },
    "tags": []
   },
   "outputs": [],
   "source": [
    "def batch_gd_optimized(model, criterion, optimizer, train_data, test_data, epochs, bs=512):\n",
    "    \n",
    "    train_users, train_movies, train_ratings = train_data\n",
    "    test_users, test_movies, test_ratings = test_data\n",
    "    \n",
    "    train_losses = np.zeros(epochs)\n",
    "    test_losses = np.zeros(epochs)\n",
    "    \n",
    "    # batches per epoch\n",
    "    Ntrain = len(train_users)\n",
    "    batch_per_epoch = int(np.ceil(Ntrain / bs))  # bs : batch size\n",
    "    \n",
    "    for it in range(epochs):\n",
    "        t0 = datetime.now()\n",
    "        train_loss = []\n",
    "        \n",
    "        # shuffle each batch\n",
    "        train_users, train_movies, train_ratings = shuffle(\n",
    "            train_users, train_movies, train_ratings\n",
    "        )\n",
    "        \n",
    "        for j in range(batch_per_epoch):\n",
    "            \n",
    "            # get the batch\n",
    "            users = train_users[j*bs : (j+1)*bs]\n",
    "            movies = train_movies[j*bs : (j+1)*bs]\n",
    "            targets = train_ratings[j*bs : (j+1)*bs]\n",
    "            \n",
    "            # convert to tensor\n",
    "            users = torch.from_numpy(users).long()\n",
    "            movies = torch.from_numpy(movies).long()\n",
    "            targets = torch.from_numpy(targets)\n",
    "            \n",
    "            # reshape the targets\n",
    "            targets = targets.view(-1, 1).float()\n",
    "            \n",
    "            # move data to gpu\n",
    "            users, movies, targets = users.to(device), movies.to(device), targets.to(device)\n",
    "            \n",
    "            # zero the parameter gradient \n",
    "            optimizer.zero_grad()\n",
    "            \n",
    "#             print(f\"User : {users.dtype}, movies : {movies.dtype}, targets : {targets.dtype}\")\n",
    "            # forward pass\n",
    "            outputs = model(users, movies)\n",
    "            loss = criterion(outputs, targets)\n",
    "            \n",
    "            # Backward and optimize\n",
    "            loss.backward()\n",
    "            optimizer.step()\n",
    "            \n",
    "            train_loss.append(loss.item())\n",
    "            \n",
    "        train_loss = np.mean(train_loss)\n",
    "        \n",
    "        test_loss = []\n",
    "        \n",
    "        for j in range(int(np.ceil(len(test_users) / bs))):\n",
    "            \n",
    "            # get the batch\n",
    "            users = test_users[j*bs:(j+1)*bs]\n",
    "            movies = test_movies[j*bs:(j+1)*bs]\n",
    "            targets = test_ratings[j*bs:(j+1)*bs]\n",
    "\n",
    "            # convert to tensor\n",
    "            users = torch.from_numpy(users).long()\n",
    "            movies = torch.from_numpy(movies).long()\n",
    "            targets = torch.from_numpy(targets)\n",
    "\n",
    "            # reshape targets\n",
    "            targets = targets.view(-1, 1).float()\n",
    "\n",
    "            # move data to GPU\n",
    "            users, movies, targets = users.to(device), movies.to(device), targets.to(device)\n",
    "\n",
    "            outputs = model(users, movies)\n",
    "            loss = criterion(outputs, targets).item()\n",
    "            test_loss.append(loss)\n",
    "\n",
    "        test_loss = np.mean(test_loss)\n",
    "\n",
    "        # Save losses\n",
    "        train_losses[it] = train_loss\n",
    "        test_losses[it] = test_loss\n",
    "\n",
    "        dt = datetime.now() - t0\n",
    "        print(f'Epoch {it+1}/{epochs}, Train Loss: {train_loss:.4f}, '\n",
    "              f'Test Loss: {test_loss:.4f}, Duration: {dt}')\n",
    "\n",
    "    return train_losses, test_losses"
   ]
  },
  {
   "cell_type": "code",
   "execution_count": 15,
   "id": "complicated-universal",
   "metadata": {
    "execution": {
     "iopub.execute_input": "2021-06-06T09:23:45.871564Z",
     "iopub.status.busy": "2021-06-06T09:23:45.870702Z",
     "iopub.status.idle": "2021-06-06T09:23:47.542574Z",
     "shell.execute_reply": "2021-06-06T09:23:47.542099Z",
     "shell.execute_reply.started": "2021-06-06T09:21:28.087052Z"
    },
    "id": "pmTY2T-GuCtY",
    "papermill": {
     "duration": 1.697002,
     "end_time": "2021-06-06T09:23:47.542710",
     "exception": false,
     "start_time": "2021-06-06T09:23:45.845708",
     "status": "completed"
    },
    "tags": []
   },
   "outputs": [],
   "source": [
    "# shuffle the data in corresponding order\n",
    "user_ids, movie_ids, ratings = shuffle(user_ids, movie_ids, ratings)"
   ]
  },
  {
   "cell_type": "code",
   "execution_count": 16,
   "id": "greater-magnitude",
   "metadata": {
    "execution": {
     "iopub.execute_input": "2021-06-06T09:23:47.591444Z",
     "iopub.status.busy": "2021-06-06T09:23:47.590942Z",
     "iopub.status.idle": "2021-06-06T09:23:47.594712Z",
     "shell.execute_reply": "2021-06-06T09:23:47.594303Z",
     "shell.execute_reply.started": "2021-06-06T09:21:29.738761Z"
    },
    "id": "jDn4Y4bTud6Y",
    "papermill": {
     "duration": 0.029701,
     "end_time": "2021-06-06T09:23:47.594824",
     "exception": false,
     "start_time": "2021-06-06T09:23:47.565123",
     "status": "completed"
    },
    "tags": []
   },
   "outputs": [],
   "source": [
    "# Make datasets\n",
    "Ntrain = int(0.8 * len(ratings))\n",
    "\n",
    "train_users = user_ids[:Ntrain]\n",
    "train_movies = movie_ids[:Ntrain]\n",
    "train_ratings = ratings[:Ntrain]\n",
    "\n",
    "\n",
    "test_users = user_ids[Ntrain:]\n",
    "test_movies = movie_ids[Ntrain:]\n",
    "test_ratings = ratings[Ntrain:]"
   ]
  },
  {
   "cell_type": "code",
   "execution_count": 17,
   "id": "embedded-producer",
   "metadata": {
    "execution": {
     "iopub.execute_input": "2021-06-06T09:23:47.642760Z",
     "iopub.status.busy": "2021-06-06T09:23:47.641905Z",
     "iopub.status.idle": "2021-06-06T09:32:12.730091Z",
     "shell.execute_reply": "2021-06-06T09:32:12.730505Z",
     "shell.execute_reply.started": "2021-06-06T09:21:29.748280Z"
    },
    "id": "Bu4QDdlg-edN",
    "outputId": "9f40b856-cd55-4ec9-fcf1-5323c64aafac",
    "papermill": {
     "duration": 505.114042,
     "end_time": "2021-06-06T09:32:12.730676",
     "exception": false,
     "start_time": "2021-06-06T09:23:47.616634",
     "status": "completed"
    },
    "tags": []
   },
   "outputs": [
    {
     "name": "stdout",
     "output_type": "stream",
     "text": [
      "Epoch 1/10, Train Loss: 0.7367, Test Loss: 0.6938, Duration: 0:00:51.013660\n",
      "Epoch 2/10, Train Loss: 0.6696, Test Loss: 0.6631, Duration: 0:00:50.358044\n",
      "Epoch 3/10, Train Loss: 0.6369, Test Loss: 0.6473, Duration: 0:00:50.286731\n",
      "Epoch 4/10, Train Loss: 0.6144, Test Loss: 0.6374, Duration: 0:00:50.087871\n",
      "Epoch 5/10, Train Loss: 0.5975, Test Loss: 0.6372, Duration: 0:00:50.656219\n",
      "Epoch 6/10, Train Loss: 0.5844, Test Loss: 0.6399, Duration: 0:00:50.201936\n",
      "Epoch 7/10, Train Loss: 0.5746, Test Loss: 0.6331, Duration: 0:00:51.116684\n",
      "Epoch 8/10, Train Loss: 0.5673, Test Loss: 0.6251, Duration: 0:00:50.803224\n",
      "Epoch 9/10, Train Loss: 0.5617, Test Loss: 0.6256, Duration: 0:00:50.798468\n",
      "Epoch 10/10, Train Loss: 0.5571, Test Loss: 0.6283, Duration: 0:00:49.735964\n"
     ]
    }
   ],
   "source": [
    "train_losses, test_losses = batch_gd_optimized(\n",
    "    model, criterion, optimizer, \n",
    "    (train_users, train_movies, train_ratings),\n",
    "    (test_users, test_movies, test_ratings),10\n",
    ")"
   ]
  },
  {
   "cell_type": "code",
   "execution_count": 18,
   "id": "accessory-paint",
   "metadata": {
    "execution": {
     "iopub.execute_input": "2021-06-06T09:32:12.791614Z",
     "iopub.status.busy": "2021-06-06T09:32:12.790823Z",
     "iopub.status.idle": "2021-06-06T09:32:13.038861Z",
     "shell.execute_reply": "2021-06-06T09:32:13.039273Z"
    },
    "id": "Y7a7lw1u7zq_",
    "outputId": "5d69ef36-0309-477a-867f-6cada362d0e1",
    "papermill": {
     "duration": 0.284674,
     "end_time": "2021-06-06T09:32:13.039417",
     "exception": false,
     "start_time": "2021-06-06T09:32:12.754743",
     "status": "completed"
    },
    "tags": []
   },
   "outputs": [
    {
     "data": {
      "image/png": "[encoded data removed]",
      "text/plain": [
       "<Figure size 432x288 with 1 Axes>"
      ]
     },
     "metadata": {
      "needs_background": "light"
     },
     "output_type": "display_data"
    }
   ],
   "source": [
    "# Plot the train loss and test loss per iteration\n",
    "plt.plot(train_losses, label='train loss')\n",
    "plt.plot(test_losses, label='test loss')\n",
    "plt.legend()\n",
    "plt.show()"
   ]
  },
  {
   "cell_type": "code",
   "execution_count": null,
   "id": "commercial-uruguay",
   "metadata": {
    "papermill": {
     "duration": 0.024858,
     "end_time": "2021-06-06T09:32:13.089791",
     "exception": false,
     "start_time": "2021-06-06T09:32:13.064933",
     "status": "completed"
    },
    "tags": []
   },
   "outputs": [],
   "source": []
  }
 ],
 "metadata": {
  "kernelspec": {
   "display_name": "Python 3",
   "language": "python",
   "name": "python3"
  },
  "language_info": {
   "codemirror_mode": {
    "name": "ipython",
    "version": 3
   },
   "file_extension": ".py",
   "mimetype": "text/x-python",
   "name": "python",
   "nbconvert_exporter": "python",
   "pygments_lexer": "ipython3",
   "version": "3.7.10"
  },
  "papermill": {
   "default_parameters": {},
   "duration": 550.819432,
   "end_time": "2021-06-06T09:32:14.454643",
   "environment_variables": {},
   "exception": null,
   "input_path": "__notebook__.ipynb",
   "output_path": "__notebook__.ipynb",
   "parameters": {},
   "start_time": "2021-06-06T09:23:03.635211",
   "version": "2.3.3"
  }
 },
 "nbformat": 4,
 "nbformat_minor": 5
}
