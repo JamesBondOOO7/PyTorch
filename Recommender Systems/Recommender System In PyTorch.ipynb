{
 "cells": [
  {
   "cell_type": "code",
   "execution_count": 1,
   "id": "hollywood-huntington",
   "metadata": {
    "execution": {
     "iopub.execute_input": "2021-06-05T21:11:12.918222Z",
     "iopub.status.busy": "2021-06-05T21:11:12.917456Z",
     "iopub.status.idle": "2021-06-05T21:11:15.174944Z",
     "shell.execute_reply": "2021-06-05T21:11:15.173910Z",
     "shell.execute_reply.started": "2021-06-05T21:04:36.812931Z"
    },
    "id": "b2rE-bpEpmNl",
    "papermill": {
     "duration": 2.277035,
     "end_time": "2021-06-05T21:11:15.175097",
     "exception": false,
     "start_time": "2021-06-05T21:11:12.898062",
     "status": "completed"
    },
    "tags": []
   },
   "outputs": [],
   "source": [
    "import torch\n",
    "import torch.nn as nn\n",
    "import torch.nn.functional as F\n",
    "import numpy as np\n",
    "import pandas as pd\n",
    "import matplotlib.pyplot as plt\n",
    "from datetime import datetime\n",
    "from sklearn.utils import shuffle"
   ]
  },
  {
   "cell_type": "code",
   "execution_count": 2,
   "id": "functioning-insert",
   "metadata": {
    "execution": {
     "iopub.execute_input": "2021-06-05T21:11:15.207314Z",
     "iopub.status.busy": "2021-06-05T21:11:15.206793Z",
     "iopub.status.idle": "2021-06-05T21:11:18.579628Z",
     "shell.execute_reply": "2021-06-05T21:11:18.579129Z",
     "shell.execute_reply.started": "2021-06-05T21:04:39.075669Z"
    },
    "id": "tT2PWWayqFGj",
    "outputId": "dba3c393-d01a-49c9-e857-032a257c0a9f",
    "papermill": {
     "duration": 3.390473,
     "end_time": "2021-06-05T21:11:18.579762",
     "exception": false,
     "start_time": "2021-06-05T21:11:15.189289",
     "status": "completed"
    },
    "tags": []
   },
   "outputs": [
    {
     "name": "stdout",
     "output_type": "stream",
     "text": [
      "--2021-06-05 21:11:15--  http://files.grouplens.org/datasets/movielens/ml-20m.zip\r\n",
      "Resolving files.grouplens.org (files.grouplens.org)... 128.101.65.152\r\n",
      "Connecting to files.grouplens.org (files.grouplens.org)|128.101.65.152|:80... connected.\r\n",
      "HTTP request sent, awaiting response... 200 OK\r\n",
      "Length: 198702078 (189M) [application/zip]\r\n",
      "Saving to: ‘ml-20m.zip’\r\n",
      "\r\n",
      "ml-20m.zip          100%[===================>] 189.50M  71.7MB/s    in 2.6s    \r\n",
      "\r\n",
      "2021-06-05 21:11:18 (71.7 MB/s) - ‘ml-20m.zip’ saved [198702078/198702078]\r\n",
      "\r\n"
     ]
    }
   ],
   "source": [
    "# Dataset\n",
    "!wget -nc http://files.grouplens.org/datasets/movielens/ml-20m.zip"
   ]
  },
  {
   "cell_type": "code",
   "execution_count": 3,
   "id": "expired-exemption",
   "metadata": {
    "execution": {
     "iopub.execute_input": "2021-06-05T21:11:18.624743Z",
     "iopub.status.busy": "2021-06-05T21:11:18.620689Z",
     "iopub.status.idle": "2021-06-05T21:11:25.594476Z",
     "shell.execute_reply": "2021-06-05T21:11:25.593998Z",
     "shell.execute_reply.started": "2021-06-05T21:04:43.837369Z"
    },
    "id": "tiUcnMGzqLN9",
    "outputId": "821db3b0-4c2c-4e1a-c5bb-f13a0a117944",
    "papermill": {
     "duration": 6.995733,
     "end_time": "2021-06-05T21:11:25.594630",
     "exception": false,
     "start_time": "2021-06-05T21:11:18.598897",
     "status": "completed"
    },
    "tags": []
   },
   "outputs": [
    {
     "name": "stdout",
     "output_type": "stream",
     "text": [
      "Archive:  ml-20m.zip\r\n",
      "   creating: ml-20m/\r\n",
      "  inflating: ml-20m/genome-scores.csv  \r\n",
      "  inflating: ml-20m/genome-tags.csv  \r\n",
      "  inflating: ml-20m/links.csv        \r\n",
      "  inflating: ml-20m/movies.csv       \r\n",
      "  inflating: ml-20m/ratings.csv      \r\n",
      "  inflating: ml-20m/README.txt       \r\n",
      "  inflating: ml-20m/tags.csv         \r\n"
     ]
    }
   ],
   "source": [
    "!unzip -n ml-20m.zip"
   ]
  },
  {
   "cell_type": "code",
   "execution_count": 4,
   "id": "broad-approach",
   "metadata": {
    "execution": {
     "iopub.execute_input": "2021-06-05T21:11:25.640987Z",
     "iopub.status.busy": "2021-06-05T21:11:25.635399Z",
     "iopub.status.idle": "2021-06-05T21:11:26.398176Z",
     "shell.execute_reply": "2021-06-05T21:11:26.397628Z",
     "shell.execute_reply.started": "2021-06-05T21:04:53.414365Z"
    },
    "id": "JUW_ALXoqOIs",
    "outputId": "a119ee50-ef40-4a6a-ba05-f355e0aba2bc",
    "papermill": {
     "duration": 0.784791,
     "end_time": "2021-06-05T21:11:26.398313",
     "exception": false,
     "start_time": "2021-06-05T21:11:25.613522",
     "status": "completed"
    },
    "tags": []
   },
   "outputs": [
    {
     "name": "stdout",
     "output_type": "stream",
     "text": [
      "__notebook__.ipynb  ml-20m  ml-20m.zip\r\n"
     ]
    }
   ],
   "source": [
    "!ls"
   ]
  },
  {
   "cell_type": "code",
   "execution_count": 5,
   "id": "chief-concrete",
   "metadata": {
    "execution": {
     "iopub.execute_input": "2021-06-05T21:11:26.442231Z",
     "iopub.status.busy": "2021-06-05T21:11:26.441405Z",
     "iopub.status.idle": "2021-06-05T21:11:32.698610Z",
     "shell.execute_reply": "2021-06-05T21:11:32.699026Z",
     "shell.execute_reply.started": "2021-06-05T21:04:56.875225Z"
    },
    "id": "RXjHQZ3PqQ4W",
    "outputId": "3b3b41c9-7c48-4a77-f6b6-79ac174e4aca",
    "papermill": {
     "duration": 6.280429,
     "end_time": "2021-06-05T21:11:32.699174",
     "exception": false,
     "start_time": "2021-06-05T21:11:26.418745",
     "status": "completed"
    },
    "tags": []
   },
   "outputs": [
    {
     "data": {
      "text/html": [
       "<div>\n",
       "<style scoped>\n",
       "    .dataframe tbody tr th:only-of-type {\n",
       "        vertical-align: middle;\n",
       "    }\n",
       "\n",
       "    .dataframe tbody tr th {\n",
       "        vertical-align: top;\n",
       "    }\n",
       "\n",
       "    .dataframe thead th {\n",
       "        text-align: right;\n",
       "    }\n",
       "</style>\n",
       "<table border=\"1\" class=\"dataframe\">\n",
       "  <thead>\n",
       "    <tr style=\"text-align: right;\">\n",
       "      <th></th>\n",
       "      <th>userId</th>\n",
       "      <th>movieId</th>\n",
       "      <th>rating</th>\n",
       "      <th>timestamp</th>\n",
       "    </tr>\n",
       "  </thead>\n",
       "  <tbody>\n",
       "    <tr>\n",
       "      <th>0</th>\n",
       "      <td>1</td>\n",
       "      <td>2</td>\n",
       "      <td>3.5</td>\n",
       "      <td>1112486027</td>\n",
       "    </tr>\n",
       "    <tr>\n",
       "      <th>1</th>\n",
       "      <td>1</td>\n",
       "      <td>29</td>\n",
       "      <td>3.5</td>\n",
       "      <td>1112484676</td>\n",
       "    </tr>\n",
       "    <tr>\n",
       "      <th>2</th>\n",
       "      <td>1</td>\n",
       "      <td>32</td>\n",
       "      <td>3.5</td>\n",
       "      <td>1112484819</td>\n",
       "    </tr>\n",
       "    <tr>\n",
       "      <th>3</th>\n",
       "      <td>1</td>\n",
       "      <td>47</td>\n",
       "      <td>3.5</td>\n",
       "      <td>1112484727</td>\n",
       "    </tr>\n",
       "    <tr>\n",
       "      <th>4</th>\n",
       "      <td>1</td>\n",
       "      <td>50</td>\n",
       "      <td>3.5</td>\n",
       "      <td>1112484580</td>\n",
       "    </tr>\n",
       "  </tbody>\n",
       "</table>\n",
       "</div>"
      ],
      "text/plain": [
       "   userId  movieId  rating   timestamp\n",
       "0       1        2     3.5  1112486027\n",
       "1       1       29     3.5  1112484676\n",
       "2       1       32     3.5  1112484819\n",
       "3       1       47     3.5  1112484727\n",
       "4       1       50     3.5  1112484580"
      ]
     },
     "execution_count": 5,
     "metadata": {},
     "output_type": "execute_result"
    }
   ],
   "source": [
    "df = pd.read_csv('ml-20m/ratings.csv')\n",
    "df.head()"
   ]
  },
  {
   "cell_type": "code",
   "execution_count": 6,
   "id": "arranged-motor",
   "metadata": {
    "execution": {
     "iopub.execute_input": "2021-06-05T21:11:32.746249Z",
     "iopub.status.busy": "2021-06-05T21:11:32.745452Z",
     "iopub.status.idle": "2021-06-05T21:11:33.522450Z",
     "shell.execute_reply": "2021-06-05T21:11:33.521969Z",
     "shell.execute_reply.started": "2021-06-05T21:05:06.817639Z"
    },
    "id": "U5Yl5z8rqWv0",
    "papermill": {
     "duration": 0.803011,
     "end_time": "2021-06-05T21:11:33.522586",
     "exception": false,
     "start_time": "2021-06-05T21:11:32.719575",
     "status": "completed"
    },
    "tags": []
   },
   "outputs": [],
   "source": [
    "# Creating our new ids for the userId\n",
    "df.userId = pd.Categorical(df.userId)\n",
    "df['new_user_id'] = df.userId.cat.codes\n",
    "\n",
    "# same for movieId\n",
    "df.movieId = pd.Categorical(df.movieId)\n",
    "df['new_movie_id'] = df.movieId.cat.codes"
   ]
  },
  {
   "cell_type": "code",
   "execution_count": 7,
   "id": "comfortable-boston",
   "metadata": {
    "execution": {
     "iopub.execute_input": "2021-06-05T21:11:33.565579Z",
     "iopub.status.busy": "2021-06-05T21:11:33.564559Z",
     "iopub.status.idle": "2021-06-05T21:11:33.614526Z",
     "shell.execute_reply": "2021-06-05T21:11:33.614047Z",
     "shell.execute_reply.started": "2021-06-05T21:05:07.676648Z"
    },
    "id": "EDZpvKNzrlwp",
    "papermill": {
     "duration": 0.072977,
     "end_time": "2021-06-05T21:11:33.614666",
     "exception": false,
     "start_time": "2021-06-05T21:11:33.541689",
     "status": "completed"
    },
    "tags": []
   },
   "outputs": [],
   "source": [
    "# Get user IDs, movie IDs and ratings as separate arrays\n",
    "user_ids = df['new_user_id'].values\n",
    "movie_ids = df['new_movie_id'].values\n",
    "ratings = df['rating'].values - 2.5  # shifting"
   ]
  },
  {
   "cell_type": "code",
   "execution_count": 8,
   "id": "strange-acoustic",
   "metadata": {
    "execution": {
     "iopub.execute_input": "2021-06-05T21:11:42.362674Z",
     "iopub.status.busy": "2021-06-05T21:11:37.909777Z",
     "iopub.status.idle": "2021-06-05T21:11:42.366002Z",
     "shell.execute_reply": "2021-06-05T21:11:42.364886Z",
     "shell.execute_reply.started": "2021-06-05T21:05:07.732009Z"
    },
    "id": "zFlCKtmgsHch",
    "papermill": {
     "duration": 8.732497,
     "end_time": "2021-06-05T21:11:42.366131",
     "exception": false,
     "start_time": "2021-06-05T21:11:33.633634",
     "status": "completed"
    },
    "tags": []
   },
   "outputs": [],
   "source": [
    "# Get number of users and number of movies\n",
    "N = len(set(user_ids))\n",
    "M = len(set(movie_ids))\n",
    "\n",
    "# Set embedding dimension\n",
    "D = 10"
   ]
  },
  {
   "cell_type": "code",
   "execution_count": 9,
   "id": "minor-sensitivity",
   "metadata": {
    "execution": {
     "iopub.execute_input": "2021-06-05T21:11:43.922016Z",
     "iopub.status.busy": "2021-06-05T21:11:43.921195Z",
     "iopub.status.idle": "2021-06-05T21:11:43.925630Z",
     "shell.execute_reply": "2021-06-05T21:11:43.925094Z",
     "shell.execute_reply.started": "2021-06-05T21:05:16.018439Z"
    },
    "id": "K-u2FmlasWtf",
    "papermill": {
     "duration": 1.540015,
     "end_time": "2021-06-05T21:11:43.925774",
     "exception": false,
     "start_time": "2021-06-05T21:11:42.385759",
     "status": "completed"
    },
    "tags": []
   },
   "outputs": [],
   "source": [
    "# Model\n",
    "class Model(nn.Module):\n",
    "\n",
    "    def __init__(self, n_users, n_items, embed_dim, n_hidden=1024):\n",
    "\n",
    "        super(Model, self).__init__()\n",
    "        self.N = n_users\n",
    "        self.M = n_items\n",
    "        self.D = embed_dim\n",
    "\n",
    "        self.u_emb = nn.Embedding(self.N, self.D)\n",
    "        self.m_emb = nn.Embedding(self.M, self.D)\n",
    "        self.fc1 = nn.Linear(2*self.D, n_hidden)\n",
    "        self.fc2 = nn.Linear(n_hidden, 1)\n",
    "\n",
    "    def forward(self, u, m):\n",
    "\n",
    "        # N --> N X D\n",
    "        u = self.u_emb(u)\n",
    "        m = self.m_emb(m)\n",
    "\n",
    "        # merge the two networks\n",
    "        # (out) : N X 2D\n",
    "        out = torch.cat((u, m), 1)\n",
    "\n",
    "        # ANN\n",
    "        out = self.fc1(out)\n",
    "        out = F.relu(out)\n",
    "        out = self.fc2(out)\n",
    "        return out\n"
   ]
  },
  {
   "cell_type": "code",
   "execution_count": 10,
   "id": "surgical-jackson",
   "metadata": {
    "execution": {
     "iopub.execute_input": "2021-06-05T21:11:44.013035Z",
     "iopub.status.busy": "2021-06-05T21:11:44.010149Z",
     "iopub.status.idle": "2021-06-05T21:11:44.017751Z",
     "shell.execute_reply": "2021-06-05T21:11:44.017326Z",
     "shell.execute_reply.started": "2021-06-05T21:05:16.029227Z"
    },
    "id": "OQWt4PSithAZ",
    "outputId": "8997ab48-bd2d-4bb8-ca0f-ae5773258431",
    "papermill": {
     "duration": 0.071087,
     "end_time": "2021-06-05T21:11:44.017873",
     "exception": false,
     "start_time": "2021-06-05T21:11:43.946786",
     "status": "completed"
    },
    "tags": []
   },
   "outputs": [
    {
     "name": "stdout",
     "output_type": "stream",
     "text": [
      "cuda\n"
     ]
    }
   ],
   "source": [
    "device = torch.device(\"cuda\" if torch.cuda.is_available() else \"cpu\")\n",
    "print(device)\n"
   ]
  },
  {
   "cell_type": "code",
   "execution_count": 11,
   "id": "aggregate-dutch",
   "metadata": {
    "execution": {
     "iopub.execute_input": "2021-06-05T21:11:44.061298Z",
     "iopub.status.busy": "2021-06-05T21:11:44.060569Z",
     "iopub.status.idle": "2021-06-05T21:11:48.098821Z",
     "shell.execute_reply": "2021-06-05T21:11:48.098255Z",
     "shell.execute_reply.started": "2021-06-05T21:05:16.110384Z"
    },
    "id": "CpZf17C6trcl",
    "outputId": "45ec7154-53da-4dee-917a-ac7e73ec25e9",
    "papermill": {
     "duration": 4.061833,
     "end_time": "2021-06-05T21:11:48.098956",
     "exception": false,
     "start_time": "2021-06-05T21:11:44.037123",
     "status": "completed"
    },
    "tags": []
   },
   "outputs": [
    {
     "data": {
      "text/plain": [
       "Model(\n",
       "  (u_emb): Embedding(138493, 10)\n",
       "  (m_emb): Embedding(26744, 10)\n",
       "  (fc1): Linear(in_features=20, out_features=1024, bias=True)\n",
       "  (fc2): Linear(in_features=1024, out_features=1, bias=True)\n",
       ")"
      ]
     },
     "execution_count": 11,
     "metadata": {},
     "output_type": "execute_result"
    }
   ],
   "source": [
    "model = Model(n_users=N, n_items=M, embed_dim=D)\n",
    "model.to(device)"
   ]
  },
  {
   "cell_type": "code",
   "execution_count": 12,
   "id": "confused-automation",
   "metadata": {
    "execution": {
     "iopub.execute_input": "2021-06-05T21:11:48.143969Z",
     "iopub.status.busy": "2021-06-05T21:11:48.143272Z",
     "iopub.status.idle": "2021-06-05T21:11:48.145682Z",
     "shell.execute_reply": "2021-06-05T21:11:48.146105Z",
     "shell.execute_reply.started": "2021-06-05T21:05:20.150831Z"
    },
    "id": "6ljOODw1t4Gr",
    "papermill": {
     "duration": 0.027336,
     "end_time": "2021-06-05T21:11:48.146241",
     "exception": false,
     "start_time": "2021-06-05T21:11:48.118905",
     "status": "completed"
    },
    "tags": []
   },
   "outputs": [],
   "source": [
    "# Loss and optimizer\n",
    "criterion = nn.MSELoss()\n",
    "optimizer = torch.optim.Adam(model.parameters())"
   ]
  },
  {
   "cell_type": "code",
   "execution_count": 13,
   "id": "independent-creator",
   "metadata": {
    "execution": {
     "iopub.execute_input": "2021-06-05T21:11:48.190035Z",
     "iopub.status.busy": "2021-06-05T21:11:48.189024Z",
     "iopub.status.idle": "2021-06-05T21:11:49.955563Z",
     "shell.execute_reply": "2021-06-05T21:11:49.954477Z",
     "shell.execute_reply.started": "2021-06-05T21:05:33.563926Z"
    },
    "id": "pmTY2T-GuCtY",
    "papermill": {
     "duration": 1.79018,
     "end_time": "2021-06-05T21:11:49.955703",
     "exception": false,
     "start_time": "2021-06-05T21:11:48.165523",
     "status": "completed"
    },
    "tags": []
   },
   "outputs": [],
   "source": [
    "# shuffle the data in corresponding order\n",
    "user_ids, movie_ids, ratings = shuffle(user_ids, movie_ids, ratings)"
   ]
  },
  {
   "cell_type": "code",
   "execution_count": 14,
   "id": "authorized-phrase",
   "metadata": {
    "execution": {
     "iopub.execute_input": "2021-06-05T21:11:49.999299Z",
     "iopub.status.busy": "2021-06-05T21:11:49.998705Z",
     "iopub.status.idle": "2021-06-05T21:11:50.207150Z",
     "shell.execute_reply": "2021-06-05T21:11:50.208020Z",
     "shell.execute_reply.started": "2021-06-05T21:05:35.215676Z"
    },
    "id": "pGb2Ay4YuLP0",
    "papermill": {
     "duration": 0.232424,
     "end_time": "2021-06-05T21:11:50.208273",
     "exception": false,
     "start_time": "2021-06-05T21:11:49.975849",
     "status": "completed"
    },
    "tags": []
   },
   "outputs": [],
   "source": [
    "# convert to tensors\n",
    "user_ids_t = torch.from_numpy(user_ids).long()\n",
    "movie_ids_t = torch.from_numpy(movie_ids).long()\n",
    "ratings_t = torch.from_numpy(ratings)"
   ]
  },
  {
   "cell_type": "code",
   "execution_count": 15,
   "id": "jewish-glucose",
   "metadata": {
    "execution": {
     "iopub.execute_input": "2021-06-05T21:11:50.298456Z",
     "iopub.status.busy": "2021-06-05T21:11:50.297742Z",
     "iopub.status.idle": "2021-06-05T21:11:50.300154Z",
     "shell.execute_reply": "2021-06-05T21:11:50.300571Z",
     "shell.execute_reply.started": "2021-06-05T21:05:35.386582Z"
    },
    "id": "jDn4Y4bTud6Y",
    "papermill": {
     "duration": 0.053888,
     "end_time": "2021-06-05T21:11:50.300776",
     "exception": false,
     "start_time": "2021-06-05T21:11:50.246888",
     "status": "completed"
    },
    "tags": []
   },
   "outputs": [],
   "source": [
    "# Make datasets\n",
    "Ntrain = int(0.8 * len(ratings))\n",
    "\n",
    "train_dataset = torch.utils.data.TensorDataset(\n",
    "    user_ids_t[:Ntrain],\n",
    "    movie_ids_t[:Ntrain],\n",
    "    ratings_t[:Ntrain]\n",
    ")\n",
    "\n",
    "test_dataset = torch.utils.data.TensorDataset(\n",
    "    user_ids_t[Ntrain:],\n",
    "    movie_ids_t[Ntrain:],\n",
    "    ratings_t[Ntrain:]\n",
    ")"
   ]
  },
  {
   "cell_type": "code",
   "execution_count": 16,
   "id": "conventional-jamaica",
   "metadata": {
    "execution": {
     "iopub.execute_input": "2021-06-05T21:11:50.372613Z",
     "iopub.status.busy": "2021-06-05T21:11:50.371744Z",
     "iopub.status.idle": "2021-06-05T21:11:50.377169Z",
     "shell.execute_reply": "2021-06-05T21:11:50.376302Z",
     "shell.execute_reply.started": "2021-06-05T21:05:35.396094Z"
    },
    "id": "hyQOIUz25Al_",
    "papermill": {
     "duration": 0.043237,
     "end_time": "2021-06-05T21:11:50.377377",
     "exception": false,
     "start_time": "2021-06-05T21:11:50.334140",
     "status": "completed"
    },
    "tags": []
   },
   "outputs": [],
   "source": [
    "# Data Loaders\n",
    "batch_size = 512\n",
    "train_loader = torch.utils.data.DataLoader(\n",
    "    dataset=train_dataset,\n",
    "    batch_size=batch_size,\n",
    "    shuffle=True\n",
    ")\n",
    "\n",
    "test_loader = torch.utils.data.DataLoader(\n",
    "    dataset=test_dataset,\n",
    "    batch_size=batch_size,\n",
    "    shuffle=False\n",
    ")"
   ]
  },
  {
   "cell_type": "code",
   "execution_count": 17,
   "id": "departmental-iceland",
   "metadata": {
    "execution": {
     "iopub.execute_input": "2021-06-05T21:11:50.456426Z",
     "iopub.status.busy": "2021-06-05T21:11:50.455688Z",
     "iopub.status.idle": "2021-06-05T21:11:50.464258Z",
     "shell.execute_reply": "2021-06-05T21:11:50.465159Z",
     "shell.execute_reply.started": "2021-06-05T21:05:35.407026Z"
    },
    "id": "CFDqsbMm5bLl",
    "papermill": {
     "duration": 0.053101,
     "end_time": "2021-06-05T21:11:50.465336",
     "exception": false,
     "start_time": "2021-06-05T21:11:50.412235",
     "status": "completed"
    },
    "tags": []
   },
   "outputs": [],
   "source": [
    "# Training loop\n",
    "\n",
    "def batch_gd(model, criterion, optimizer, train_iter, test_iter, epochs):\n",
    "\n",
    "    train_losses = np.zeros(epochs)\n",
    "    test_losses = np.zeros(epochs)\n",
    "\n",
    "    for it in range(epochs):\n",
    "\n",
    "        t0 = datetime.now()\n",
    "        train_loss = []\n",
    "\n",
    "        for users, movies, targets in train_loader:\n",
    "\n",
    "            targets = targets.view(-1, 1).float()\n",
    "\n",
    "            # move data to gpu\n",
    "            users, movies, targets = users.to(device), movies.to(device), targets.to(device)\n",
    "\n",
    "            optimizer.zero_grad()\n",
    "\n",
    "            # forward pass\n",
    "            outputs = model(users, movies)\n",
    "            loss = criterion(outputs, targets)\n",
    "\n",
    "            # Backward and optimize\n",
    "            loss.backward()\n",
    "            optimizer.step()\n",
    "\n",
    "            train_loss.append(loss.item())\n",
    "\n",
    "        train_loss = np.mean(train_loss)\n",
    "\n",
    "        test_loss = []\n",
    "        for users, movies, targets in test_loader:\n",
    "            users, movies, targets = users.to(device), movies.to(device), targets.to(device)\n",
    "            targets = targets.view(-1, 1).float()\n",
    "            outputs = model(users, movies)\n",
    "            loss = criterion(outputs, targets)\n",
    "            test_loss.append(loss.item())\n",
    "        test_loss = np.mean(test_loss)\n",
    "\n",
    "        # Save losses\n",
    "        train_losses[it] = train_loss\n",
    "        test_losses[it] = test_loss\n",
    "        \n",
    "        dt = datetime.now() - t0\n",
    "        print(f'Epoch {it+1}/{epochs}, Train Loss: {train_loss:.4f}, '\n",
    "            f'Test Loss: {test_loss:.4f}, Duration: {dt}')\n",
    "    \n",
    "    return train_losses, test_losses"
   ]
  },
  {
   "cell_type": "code",
   "execution_count": 18,
   "id": "recorded-apartment",
   "metadata": {
    "execution": {
     "iopub.execute_input": "2021-06-05T21:11:50.539114Z",
     "iopub.status.busy": "2021-06-05T21:11:50.538175Z",
     "iopub.status.idle": "2021-06-05T23:18:12.587757Z",
     "shell.execute_reply": "2021-06-05T23:18:12.588169Z",
     "shell.execute_reply.started": "2021-06-05T21:05:35.420374Z"
    },
    "id": "Bu4QDdlg-edN",
    "outputId": "9f40b856-cd55-4ec9-fcf1-5323c64aafac",
    "papermill": {
     "duration": 7582.088894,
     "end_time": "2021-06-05T23:18:12.588334",
     "exception": false,
     "start_time": "2021-06-05T21:11:50.499440",
     "status": "completed"
    },
    "tags": []
   },
   "outputs": [
    {
     "name": "stdout",
     "output_type": "stream",
     "text": [
      "Epoch 1/25, Train Loss: 0.8175, Test Loss: 0.7521, Duration: 0:05:05.621893\n",
      "Epoch 2/25, Train Loss: 0.7396, Test Loss: 0.7366, Duration: 0:05:05.219322\n",
      "Epoch 3/25, Train Loss: 0.7239, Test Loss: 0.7242, Duration: 0:05:02.747843\n",
      "Epoch 4/25, Train Loss: 0.7092, Test Loss: 0.7133, Duration: 0:05:01.719211\n",
      "Epoch 5/25, Train Loss: 0.6971, Test Loss: 0.7044, Duration: 0:05:02.009239\n",
      "Epoch 6/25, Train Loss: 0.6886, Test Loss: 0.7007, Duration: 0:05:02.245273\n",
      "Epoch 7/25, Train Loss: 0.6826, Test Loss: 0.6964, Duration: 0:05:08.428504\n",
      "Epoch 8/25, Train Loss: 0.6782, Test Loss: 0.6954, Duration: 0:05:04.655931\n",
      "Epoch 9/25, Train Loss: 0.6747, Test Loss: 0.6919, Duration: 0:05:03.056524\n",
      "Epoch 10/25, Train Loss: 0.6716, Test Loss: 0.6922, Duration: 0:05:02.562068\n",
      "Epoch 11/25, Train Loss: 0.6689, Test Loss: 0.6912, Duration: 0:05:02.917202\n",
      "Epoch 12/25, Train Loss: 0.6663, Test Loss: 0.6886, Duration: 0:05:05.241486\n",
      "Epoch 13/25, Train Loss: 0.6640, Test Loss: 0.6881, Duration: 0:05:03.542269\n",
      "Epoch 14/25, Train Loss: 0.6618, Test Loss: 0.6870, Duration: 0:05:01.667099\n",
      "Epoch 15/25, Train Loss: 0.6596, Test Loss: 0.6863, Duration: 0:05:02.860721\n",
      "Epoch 16/25, Train Loss: 0.6576, Test Loss: 0.6846, Duration: 0:05:01.934968\n",
      "Epoch 17/25, Train Loss: 0.6557, Test Loss: 0.6856, Duration: 0:05:02.993328\n",
      "Epoch 18/25, Train Loss: 0.6538, Test Loss: 0.6839, Duration: 0:05:02.823748\n",
      "Epoch 19/25, Train Loss: 0.6519, Test Loss: 0.6845, Duration: 0:05:02.626480\n",
      "Epoch 20/25, Train Loss: 0.6501, Test Loss: 0.6818, Duration: 0:05:01.882591\n",
      "Epoch 21/25, Train Loss: 0.6484, Test Loss: 0.6822, Duration: 0:05:01.592103\n",
      "Epoch 22/25, Train Loss: 0.6467, Test Loss: 0.6813, Duration: 0:05:01.592933\n",
      "Epoch 23/25, Train Loss: 0.6451, Test Loss: 0.6833, Duration: 0:05:02.090233\n",
      "Epoch 24/25, Train Loss: 0.6434, Test Loss: 0.6815, Duration: 0:05:01.523570\n",
      "Epoch 25/25, Train Loss: 0.6418, Test Loss: 0.6814, Duration: 0:05:08.464342\n"
     ]
    }
   ],
   "source": [
    "train_losses, test_losses = batch_gd(\n",
    "model, criterion, optimizer, train_loader, test_loader, 25)"
   ]
  },
  {
   "cell_type": "code",
   "execution_count": 19,
   "id": "entertaining-digest",
   "metadata": {
    "execution": {
     "iopub.execute_input": "2021-06-05T23:18:12.657276Z",
     "iopub.status.busy": "2021-06-05T23:18:12.656767Z",
     "iopub.status.idle": "2021-06-05T23:18:12.798403Z",
     "shell.execute_reply": "2021-06-05T23:18:12.798807Z",
     "shell.execute_reply.started": "2021-06-05T21:10:41.839186Z"
    },
    "id": "Y7a7lw1u7zq_",
    "outputId": "5d69ef36-0309-477a-867f-6cada362d0e1",
    "papermill": {
     "duration": 0.185141,
     "end_time": "2021-06-05T23:18:12.798957",
     "exception": false,
     "start_time": "2021-06-05T23:18:12.613816",
     "status": "completed"
    },
    "tags": []
   },
   "outputs": [
    {
     "data": {
      "image/png": "[encoded data removed]",
      "text/plain": [
       "<Figure size 432x288 with 1 Axes>"
      ]
     },
     "metadata": {
      "needs_background": "light"
     },
     "output_type": "display_data"
    }
   ],
   "source": [
    "# Plot the train loss and test loss per iteration\n",
    "plt.plot(train_losses, label='train loss')\n",
    "plt.plot(test_losses, label='test loss')\n",
    "plt.legend()\n",
    "plt.show()"
   ]
  }
 ],
 "metadata": {
  "kernelspec": {
   "display_name": "Python 3",
   "language": "python",
   "name": "python3"
  },
  "language_info": {
   "codemirror_mode": {
    "name": "ipython",
    "version": 3
   },
   "file_extension": ".py",
   "mimetype": "text/x-python",
   "name": "python",
   "nbconvert_exporter": "python",
   "pygments_lexer": "ipython3",
   "version": "3.7.9"
  },
  "papermill": {
   "default_parameters": {},
   "duration": 7625.933716,
   "end_time": "2021-06-05T23:18:13.634708",
   "environment_variables": {},
   "exception": null,
   "input_path": "__notebook__.ipynb",
   "output_path": "__notebook__.ipynb",
   "parameters": {},
   "start_time": "2021-06-05T21:11:07.700992",
   "version": "2.3.2"
  }
 },
 "nbformat": 4,
 "nbformat_minor": 5
}
